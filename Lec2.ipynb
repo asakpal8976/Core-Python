{
 "cells": [
  {
   "cell_type": "code",
   "execution_count": 1,
   "id": "628ab9b0-4694-4330-8b45-70d9704cdabb",
   "metadata": {},
   "outputs": [],
   "source": [
    "x = 'Learning strings in python'"
   ]
  },
  {
   "cell_type": "code",
   "execution_count": 3,
   "id": "db8db305-d7e4-416f-ad70-b3ce79656b0c",
   "metadata": {},
   "outputs": [
    {
     "data": {
      "text/plain": [
       "'Learning st'"
      ]
     },
     "execution_count": 3,
     "metadata": {},
     "output_type": "execute_result"
    }
   ],
   "source": [
    "x[0:11]"
   ]
  },
  {
   "cell_type": "code",
   "execution_count": 5,
   "id": "6dc7d959-f45b-4242-8907-7242c990d198",
   "metadata": {},
   "outputs": [
    {
     "data": {
      "text/plain": [
       "'strings'"
      ]
     },
     "execution_count": 5,
     "metadata": {},
     "output_type": "execute_result"
    }
   ],
   "source": [
    "x[9:16]"
   ]
  },
  {
   "cell_type": "code",
   "execution_count": 7,
   "id": "a93637f4-0337-4b49-9daf-6475b4af188a",
   "metadata": {},
   "outputs": [
    {
     "data": {
      "text/plain": [
       "'Learning st'"
      ]
     },
     "execution_count": 7,
     "metadata": {},
     "output_type": "execute_result"
    }
   ],
   "source": [
    "x[:11]"
   ]
  },
  {
   "cell_type": "code",
   "execution_count": 9,
   "id": "4768ef0e-a8f4-4185-b2fa-d28d21f46455",
   "metadata": {},
   "outputs": [
    {
     "data": {
      "text/plain": [
       "'Learning strings in python'"
      ]
     },
     "execution_count": 9,
     "metadata": {},
     "output_type": "execute_result"
    }
   ],
   "source": [
    "x[0:]"
   ]
  },
  {
   "cell_type": "code",
   "execution_count": 1,
   "id": "e953e051-4203-4f45-800e-897e64c24a39",
   "metadata": {},
   "outputs": [],
   "source": [
    "my_string=\"Hello World\""
   ]
  },
  {
   "cell_type": "code",
   "execution_count": 13,
   "id": "1d61d45f-7b85-4a53-b15a-f31c9234b157",
   "metadata": {},
   "outputs": [
    {
     "name": "stdout",
     "output_type": "stream",
     "text": [
      "Hello\n"
     ]
    }
   ],
   "source": [
    "print(my_string[0:5])"
   ]
  },
  {
   "cell_type": "code",
   "execution_count": 3,
   "id": "1f4111c0-1154-466c-a3c1-8bb8fcee8fa6",
   "metadata": {},
   "outputs": [
    {
     "data": {
      "text/plain": [
       "'Hello'"
      ]
     },
     "execution_count": 3,
     "metadata": {},
     "output_type": "execute_result"
    }
   ],
   "source": [
    "my_string[0:5]"
   ]
  },
  {
   "cell_type": "code",
   "execution_count": 7,
   "id": "25959642-b8f5-4b23-897b-4abeaeb2d675",
   "metadata": {},
   "outputs": [],
   "source": [
    "n = 'Good Morning myself Anushka'"
   ]
  },
  {
   "cell_type": "code",
   "execution_count": 29,
   "id": "d901b045-94ea-43a9-ae60-48cc930a647a",
   "metadata": {},
   "outputs": [
    {
     "data": {
      "text/plain": [
       "'Morn'"
      ]
     },
     "execution_count": 29,
     "metadata": {},
     "output_type": "execute_result"
    }
   ],
   "source": [
    "z = n.split()[1]\n",
    "z[0:4:1]"
   ]
  },
  {
   "cell_type": "code",
   "execution_count": 17,
   "id": "43952696-239e-420d-8ecc-482f429f394e",
   "metadata": {},
   "outputs": [
    {
     "data": {
      "text/plain": [
       "'akhsunA'"
      ]
     },
     "execution_count": 17,
     "metadata": {},
     "output_type": "execute_result"
    }
   ],
   "source": [
    "x = n.split()[3]\n",
    "x[-1::-1]"
   ]
  },
  {
   "cell_type": "code",
   "execution_count": 23,
   "id": "603e3471-18fd-4375-8577-8e9d63a48d77",
   "metadata": {},
   "outputs": [
    {
     "data": {
      "text/plain": [
       "'Mrig'"
      ]
     },
     "execution_count": 23,
     "metadata": {},
     "output_type": "execute_result"
    }
   ],
   "source": [
    "x = n.split()[1]\n",
    "x[0::2]"
   ]
  },
  {
   "cell_type": "code",
   "execution_count": 29,
   "id": "ba13eb0a-1fdd-4003-884a-11e48365332d",
   "metadata": {},
   "outputs": [
    {
     "data": {
      "text/plain": [
       "'A'"
      ]
     },
     "execution_count": 29,
     "metadata": {},
     "output_type": "execute_result"
    }
   ],
   "source": [
    "x = n.split()[3]\n",
    "x[0:2:2]"
   ]
  },
  {
   "cell_type": "code",
   "execution_count": 35,
   "id": "16a1d868-27ce-41c2-aa51-6625c8ad04e6",
   "metadata": {},
   "outputs": [
    {
     "data": {
      "text/plain": [
       "'Auha'"
      ]
     },
     "execution_count": 35,
     "metadata": {},
     "output_type": "execute_result"
    }
   ],
   "source": [
    "x = n.split()[3]\n",
    "x[::2]"
   ]
  },
  {
   "cell_type": "code",
   "execution_count": 37,
   "id": "b2f52dc1-33b0-48e2-be1e-4af0b42f132f",
   "metadata": {},
   "outputs": [
    {
     "data": {
      "text/plain": [
       "['__add__',\n",
       " '__class__',\n",
       " '__contains__',\n",
       " '__delattr__',\n",
       " '__dir__',\n",
       " '__doc__',\n",
       " '__eq__',\n",
       " '__format__',\n",
       " '__ge__',\n",
       " '__getattribute__',\n",
       " '__getitem__',\n",
       " '__getnewargs__',\n",
       " '__getstate__',\n",
       " '__gt__',\n",
       " '__hash__',\n",
       " '__init__',\n",
       " '__init_subclass__',\n",
       " '__iter__',\n",
       " '__le__',\n",
       " '__len__',\n",
       " '__lt__',\n",
       " '__mod__',\n",
       " '__mul__',\n",
       " '__ne__',\n",
       " '__new__',\n",
       " '__reduce__',\n",
       " '__reduce_ex__',\n",
       " '__repr__',\n",
       " '__rmod__',\n",
       " '__rmul__',\n",
       " '__setattr__',\n",
       " '__sizeof__',\n",
       " '__str__',\n",
       " '__subclasshook__',\n",
       " 'capitalize',\n",
       " 'casefold',\n",
       " 'center',\n",
       " 'count',\n",
       " 'encode',\n",
       " 'endswith',\n",
       " 'expandtabs',\n",
       " 'find',\n",
       " 'format',\n",
       " 'format_map',\n",
       " 'index',\n",
       " 'isalnum',\n",
       " 'isalpha',\n",
       " 'isascii',\n",
       " 'isdecimal',\n",
       " 'isdigit',\n",
       " 'isidentifier',\n",
       " 'islower',\n",
       " 'isnumeric',\n",
       " 'isprintable',\n",
       " 'isspace',\n",
       " 'istitle',\n",
       " 'isupper',\n",
       " 'join',\n",
       " 'ljust',\n",
       " 'lower',\n",
       " 'lstrip',\n",
       " 'maketrans',\n",
       " 'partition',\n",
       " 'removeprefix',\n",
       " 'removesuffix',\n",
       " 'replace',\n",
       " 'rfind',\n",
       " 'rindex',\n",
       " 'rjust',\n",
       " 'rpartition',\n",
       " 'rsplit',\n",
       " 'rstrip',\n",
       " 'split',\n",
       " 'splitlines',\n",
       " 'startswith',\n",
       " 'strip',\n",
       " 'swapcase',\n",
       " 'title',\n",
       " 'translate',\n",
       " 'upper',\n",
       " 'zfill']"
      ]
     },
     "execution_count": 37,
     "metadata": {},
     "output_type": "execute_result"
    }
   ],
   "source": [
    "dir(str)"
   ]
  },
  {
   "cell_type": "code",
   "execution_count": 39,
   "id": "be2b6f34-fa77-4a27-a8dc-875c5c96d174",
   "metadata": {},
   "outputs": [
    {
     "name": "stdout",
     "output_type": "stream",
     "text": [
      "110000\n"
     ]
    }
   ],
   "source": [
    "# adding two integers\n",
    "income = 100000\n",
    "incentives = 10000\n",
    "total_income = income + incentives\n",
    "print(total_income)"
   ]
  },
  {
   "cell_type": "code",
   "execution_count": 39,
   "id": "c969b666-0445-43d3-a3d2-1a1533856539",
   "metadata": {},
   "outputs": [
    {
     "name": "stdin",
     "output_type": "stream",
     "text": [
      "Enter income 54000\n",
      "Enter incentives 10000\n"
     ]
    },
    {
     "name": "stdout",
     "output_type": "stream",
     "text": [
      "64000\n"
     ]
    }
   ],
   "source": [
    "income = int(input('Enter income'))\n",
    "incentives = int(input('Enter incentives'))\n",
    "total_income = income + incentives\n",
    "print(total_income)"
   ]
  },
  {
   "cell_type": "code",
   "execution_count": 41,
   "id": "2f0277ee-80a4-45cf-b9af-57502cd59790",
   "metadata": {},
   "outputs": [
    {
     "name": "stdout",
     "output_type": "stream",
     "text": [
      "101250.5\n"
     ]
    }
   ],
   "source": [
    "# Adding one float and one integer\n",
    "income = 100000\n",
    "incentives = 1250.50\n",
    "total_income = income + incentives\n",
    "print(total_income)"
   ]
  },
  {
   "cell_type": "code",
   "execution_count": 47,
   "id": "d5c7e8e8-2f37-4ef1-a23e-0bbd3338cd31",
   "metadata": {},
   "outputs": [
    {
     "name": "stdout",
     "output_type": "stream",
     "text": [
      "Anushka Sakpal\n"
     ]
    }
   ],
   "source": [
    "# Adding two strings\n",
    "first_name = \"Anushka\"\n",
    "last_name = \"Sakpal\"\n",
    "full_name = first_name + \" \" + last_name\n",
    "print(full_name)"
   ]
  },
  {
   "cell_type": "code",
   "execution_count": 45,
   "id": "5476348b-019c-4ca0-a439-e042314a3adc",
   "metadata": {},
   "outputs": [
    {
     "name": "stdout",
     "output_type": "stream",
     "text": [
      "Omkar Sakpal\n"
     ]
    }
   ],
   "source": [
    "first_name = 'Omkar'\n",
    "last_name = 'Sakpal'\n",
    "full_name = first_name + \" \" + last_name\n",
    "print(full_name)"
   ]
  },
  {
   "cell_type": "code",
   "execution_count": 51,
   "id": "bbdb7993-2bf5-42bd-9d10-2a561ac5a86d",
   "metadata": {},
   "outputs": [
    {
     "name": "stdout",
     "output_type": "stream",
     "text": [
      "Age is 21\n"
     ]
    }
   ],
   "source": [
    "# Adding 2 strings\n",
    "text = \"Age is \"\n",
    "age = \"21\"\n",
    "combine = text + age\n",
    "print(combine)"
   ]
  },
  {
   "cell_type": "code",
   "execution_count": 53,
   "id": "2555115d-7b5e-416f-ab01-25af628a733c",
   "metadata": {},
   "outputs": [
    {
     "name": "stdout",
     "output_type": "stream",
     "text": [
      "97500\n"
     ]
    }
   ],
   "source": [
    "#subtracting 2 integers\n",
    "income = 100000\n",
    "tax = 2500\n",
    "total_income = income - tax\n",
    "print(total_income)"
   ]
  },
  {
   "cell_type": "code",
   "execution_count": 55,
   "id": "6f2d0903-46cf-4af5-a2bc-1eef7f8061a7",
   "metadata": {},
   "outputs": [
    {
     "name": "stdout",
     "output_type": "stream",
     "text": [
      "97549.01\n"
     ]
    }
   ],
   "source": [
    "# subtracting one float & one integer\n",
    "income = 100000\n",
    "tax = 2450.99\n",
    "total_income = income - tax\n",
    "print(total_income)"
   ]
  },
  {
   "cell_type": "code",
   "execution_count": 57,
   "id": "e3c487bd-92f7-48b9-9fe9-54ef2548ca93",
   "metadata": {},
   "outputs": [
    {
     "name": "stdout",
     "output_type": "stream",
     "text": [
      "3000\n"
     ]
    }
   ],
   "source": [
    "# Multiplication of 2 integers\n",
    "unit_price = 20\n",
    "total_units = 150\n",
    "total_amount = unit_price * total_units\n",
    "print(total_amount)"
   ]
  },
  {
   "cell_type": "code",
   "execution_count": 59,
   "id": "46f89fe2-d335-4f5e-9e5e-921191ba575a",
   "metadata": {},
   "outputs": [
    {
     "name": "stdout",
     "output_type": "stream",
     "text": [
      "3877.5\n"
     ]
    }
   ],
   "source": [
    "# multiplication of one integer and one float\n",
    "unit_price = 25.85\n",
    "total_units = 150\n",
    "total_amount = unit_price * total_units\n",
    "print(total_amount)"
   ]
  },
  {
   "cell_type": "code",
   "execution_count": 17,
   "id": "ec95338d-5a9b-4dba-bc6b-9cd6428acf6b",
   "metadata": {},
   "outputs": [
    {
     "name": "stdin",
     "output_type": "stream",
     "text": [
      "enter a string : mmn\n",
      "Enter no of counts : 6\n"
     ]
    },
    {
     "name": "stdout",
     "output_type": "stream",
     "text": [
      "mmnmmnmmnmmnmmnmmn\n"
     ]
    }
   ],
   "source": [
    "# multiplication  of string with integer\n",
    "str = input(\"enter a string :\")\n",
    "count = int(input(\"Enter no of counts :\"))\n",
    "result = str * count \n",
    "print(result)"
   ]
  },
  {
   "cell_type": "code",
   "execution_count": 83,
   "id": "baf5dc53-a9fa-43e1-9473-32fb35376f5e",
   "metadata": {},
   "outputs": [
    {
     "name": "stdout",
     "output_type": "stream",
     "text": [
      "9\n"
     ]
    }
   ],
   "source": [
    "# Modulus \n",
    "# Using Modulus operator to find the remainder\n",
    "total_cost = 2700\n",
    "quantity = 23\n",
    "price_per_unit = total_cost % quantity\n",
    "print(price_per_unit)"
   ]
  },
  {
   "cell_type": "code",
   "execution_count": 85,
   "id": "1d176dbf-b255-48e0-984e-c3b9a12e0533",
   "metadata": {},
   "outputs": [
    {
     "name": "stdout",
     "output_type": "stream",
     "text": [
      "1121\n"
     ]
    }
   ],
   "source": [
    "# Floor Divsion\n",
    "# division operator to get quotient\n",
    "total_cost = 25799\n",
    "quantity = 23\n",
    "price_per_unit = total_cost //  quantity\n",
    "print(price_per_unit)"
   ]
  },
  {
   "cell_type": "code",
   "execution_count": 3,
   "id": "de0107a7-1b77-4d28-85b7-29b49d69aea0",
   "metadata": {},
   "outputs": [
    {
     "name": "stdout",
     "output_type": "stream",
     "text": [
      "225\n"
     ]
    }
   ],
   "source": [
    "# squaring values\n",
    "square_side = 15\n",
    "area_of_square = square_side ** 2\n",
    "print(area_of_square)"
   ]
  },
  {
   "cell_type": "code",
   "execution_count": 1,
   "id": "64421cf0-18cb-457c-a6fb-6c7472719abd",
   "metadata": {},
   "outputs": [
    {
     "name": "stdout",
     "output_type": "stream",
     "text": [
      "3375\n"
     ]
    }
   ],
   "source": [
    "# cubing values\n",
    "cube_side = 15\n",
    "area_of_cube = cube_side ** 3\n",
    "print(area_of_cube)"
   ]
  },
  {
   "cell_type": "code",
   "execution_count": 95,
   "id": "5f31e127-826c-4aa2-9d5b-19b1fa3c1b98",
   "metadata": {},
   "outputs": [
    {
     "name": "stdin",
     "output_type": "stream",
     "text": [
      "Enter a number 24\n"
     ]
    },
    {
     "name": "stdout",
     "output_type": "stream",
     "text": [
      "13824\n"
     ]
    }
   ],
   "source": [
    "n = int(input(\"Enter a number\"))\n",
    "area_of_cube = n ** 3\n",
    "print(area_of_cube)"
   ]
  },
  {
   "cell_type": "code",
   "execution_count": 19,
   "id": "7faa4610-eea2-4249-9767-4763586e9e7f",
   "metadata": {},
   "outputs": [
    {
     "name": "stdin",
     "output_type": "stream",
     "text": [
      "enter an integer 11\n",
      "enter an integer 11\n"
     ]
    },
    {
     "name": "stdout",
     "output_type": "stream",
     "text": [
      "False\n"
     ]
    }
   ],
   "source": [
    "input1 = int(input('enter an integer'))\n",
    "input2 = int(input('enter an integer'))\n",
    "result = (input1 > input2)\n",
    "print(result)"
   ]
  },
  {
   "cell_type": "code",
   "execution_count": 5,
   "id": "26560de6-0387-4741-8b9f-063419032603",
   "metadata": {},
   "outputs": [
    {
     "name": "stdin",
     "output_type": "stream",
     "text": [
      "enter an integer 99\n",
      "enter an integer 18\n"
     ]
    },
    {
     "name": "stdout",
     "output_type": "stream",
     "text": [
      "99 is greater\n"
     ]
    }
   ],
   "source": [
    "input1 = int(input('enter an integer'))\n",
    "input2 = int(input('enter an integer'))\n",
    "if input1 > input2:\n",
    "    print(f'{input1} is greater')\n",
    "else : \n",
    "    print(f'{input1} is smaller')"
   ]
  },
  {
   "cell_type": "code",
   "execution_count": 114,
   "id": "bbd49fe9-6047-43a9-9302-768068ee15e4",
   "metadata": {},
   "outputs": [
    {
     "name": "stdin",
     "output_type": "stream",
     "text": [
      "enter an integer 11\n",
      "enter an integer 11\n"
     ]
    },
    {
     "name": "stdout",
     "output_type": "stream",
     "text": [
      "True\n"
     ]
    }
   ],
   "source": [
    "input1 = int(input('enter an integer'))\n",
    "input2 = int(input('enter an integer'))\n",
    "result = (input1 == input2)\n",
    "print(result)"
   ]
  },
  {
   "cell_type": "code",
   "execution_count": 55,
   "id": "b8e89fcc-e490-4ed7-9909-04f66bc8d976",
   "metadata": {},
   "outputs": [
    {
     "name": "stdin",
     "output_type": "stream",
     "text": [
      "enter an integer 11\n",
      "enter an integer 11\n"
     ]
    },
    {
     "name": "stdout",
     "output_type": "stream",
     "text": [
      "False\n"
     ]
    }
   ],
   "source": [
    "input1 = int(input('enter an integer'))\n",
    "input2 = int(input('enter an integer'))\n",
    "result = (input1 is not input2)\n",
    "print(result)"
   ]
  },
  {
   "cell_type": "code",
   "execution_count": 118,
   "id": "eef19314-deb4-40df-8c87-e9ff3207a6be",
   "metadata": {},
   "outputs": [
    {
     "data": {
      "text/plain": [
       "True"
      ]
     },
     "execution_count": 118,
     "metadata": {},
     "output_type": "execute_result"
    }
   ],
   "source": [
    "var = 'Hello World'\n",
    "\n",
    "'Hello' in var"
   ]
  },
  {
   "cell_type": "code",
   "execution_count": 63,
   "id": "a0d56a33-d6e4-4ace-a6ce-ec5d95ba9eb0",
   "metadata": {},
   "outputs": [
    {
     "data": {
      "text/plain": [
       "True"
      ]
     },
     "execution_count": 63,
     "metadata": {},
     "output_type": "execute_result"
    }
   ],
   "source": [
    "x = 'Hi Birdies'\n",
    "\n",
    "'Birdies' in x"
   ]
  },
  {
   "cell_type": "code",
   "execution_count": 65,
   "id": "24c44633-7880-4f2c-ad3c-0db4064bb70d",
   "metadata": {},
   "outputs": [
    {
     "name": "stdin",
     "output_type": "stream",
     "text": [
      "enter an integer 99\n",
      "enter an integer 99\n"
     ]
    },
    {
     "name": "stdout",
     "output_type": "stream",
     "text": [
      "198\n"
     ]
    }
   ],
   "source": [
    "n1 = int(input('enter an integer'))\n",
    "n2 = int(input('enter an integer'))\n",
    "result = n1 +  n2\n",
    "print(result)"
   ]
  },
  {
   "cell_type": "code",
   "execution_count": 124,
   "id": "7112720f-435e-4e06-8630-80e09b55ba40",
   "metadata": {},
   "outputs": [
    {
     "name": "stdout",
     "output_type": "stream",
     "text": [
      "8\n"
     ]
    }
   ],
   "source": [
    "# ASSIGNMENT OPERATORS\n",
    "x = 5\n",
    "x += 3 # it is similar to x + 3\n",
    "print(x)"
   ]
  },
  {
   "cell_type": "code",
   "execution_count": 126,
   "id": "cad72230-afc8-4be7-90ce-09fa46f9f29d",
   "metadata": {},
   "outputs": [
    {
     "name": "stdout",
     "output_type": "stream",
     "text": [
      "2\n"
     ]
    }
   ],
   "source": [
    "x = 5\n",
    "x -= 3\n",
    "print(x)"
   ]
  },
  {
   "cell_type": "code",
   "execution_count": 128,
   "id": "7730d56e-1360-43d0-8a80-e0fddf58c77c",
   "metadata": {},
   "outputs": [
    {
     "name": "stdout",
     "output_type": "stream",
     "text": [
      "15\n"
     ]
    }
   ],
   "source": [
    "x = 5\n",
    "x *= 3\n",
    "print(x)"
   ]
  },
  {
   "cell_type": "code",
   "execution_count": 130,
   "id": "e285b5e7-6097-4139-90b3-25741385017d",
   "metadata": {},
   "outputs": [
    {
     "name": "stdout",
     "output_type": "stream",
     "text": [
      "2\n"
     ]
    }
   ],
   "source": [
    "x = 5\n",
    "x %= 3\n",
    "print(x)"
   ]
  },
  {
   "cell_type": "code",
   "execution_count": 132,
   "id": "13320471-ffee-4e47-a281-376a10f57b95",
   "metadata": {},
   "outputs": [
    {
     "name": "stdout",
     "output_type": "stream",
     "text": [
      "125\n"
     ]
    }
   ],
   "source": [
    "x = 5\n",
    "x **= 3\n",
    "print(x)"
   ]
  },
  {
   "cell_type": "code",
   "execution_count": 69,
   "id": "1ae22dd0-9540-47a4-b68e-0429686ecab5",
   "metadata": {},
   "outputs": [
    {
     "name": "stdout",
     "output_type": "stream",
     "text": [
      "16\n"
     ]
    }
   ],
   "source": [
    "x = 4\n",
    "x **= 2\n",
    "print(x)"
   ]
  },
  {
   "cell_type": "code",
   "execution_count": 134,
   "id": "8aab7162-c072-4cd6-8b8c-4ed0026dd343",
   "metadata": {},
   "outputs": [
    {
     "name": "stdout",
     "output_type": "stream",
     "text": [
      "1\n"
     ]
    }
   ],
   "source": [
    "x = 5\n",
    "x //= 3\n",
    "print(x)"
   ]
  },
  {
   "cell_type": "code",
   "execution_count": 75,
   "id": "39923de5-b504-4b5b-a270-4b3c6fd6ebad",
   "metadata": {},
   "outputs": [],
   "source": [
    "x = 25\n",
    "y = 15"
   ]
  },
  {
   "cell_type": "code",
   "execution_count": 77,
   "id": "c329fb42-d6ae-4096-ab22-0d932fb744f3",
   "metadata": {},
   "outputs": [
    {
     "name": "stdout",
     "output_type": "stream",
     "text": [
      "x is greater\n",
      "Condition Done\n"
     ]
    }
   ],
   "source": [
    "if x > y:\n",
    "    print('x is greater')\n",
    "elif x == y:\n",
    "    print('x==y')\n",
    "elif x<=y:\n",
    "    print('it is less than equal to y')\n",
    "else:\n",
    "    print('x is lesser')\n",
    "\n",
    "print('Condition Done')"
   ]
  },
  {
   "cell_type": "code",
   "execution_count": 150,
   "id": "5e40c150-70c6-439e-af54-cee3f2f1037c",
   "metadata": {},
   "outputs": [
    {
     "name": "stdin",
     "output_type": "stream",
     "text": [
      "enter a number 4\n"
     ]
    },
    {
     "name": "stdout",
     "output_type": "stream",
     "text": [
      "Even\n",
      "end of program\n"
     ]
    }
   ],
   "source": [
    "# check even number\n",
    "num = int(input('enter a number'))\n",
    "even = num%2==0\n",
    "if even :\n",
    "    print('Even')\n",
    "else :\n",
    "    print('Odd')\n",
    "\n",
    "print('end of program')"
   ]
  },
  {
   "cell_type": "code",
   "execution_count": 162,
   "id": "0a355949-6f74-44f3-a1ec-5951f05badb1",
   "metadata": {},
   "outputs": [
    {
     "name": "stdin",
     "output_type": "stream",
     "text": [
      "enter a number 11\n"
     ]
    },
    {
     "name": "stdout",
     "output_type": "stream",
     "text": [
      "odd\n",
      "end of program\n"
     ]
    }
   ],
   "source": [
    "num = int(input('enter a number'))\n",
    "odd = num%2!=0\n",
    "if odd :\n",
    "    print('odd')\n",
    "else :\n",
    "    print('Even')\n",
    "\n",
    "print('end of program')"
   ]
  },
  {
   "cell_type": "code",
   "execution_count": 97,
   "id": "f569ab78-9bf4-4bf4-a806-1ed6e5e23536",
   "metadata": {},
   "outputs": [],
   "source": [
    "x = 9"
   ]
  },
  {
   "cell_type": "code",
   "execution_count": 99,
   "id": "4c9627d7-40b3-4e11-8c90-b2a35e1ead0e",
   "metadata": {},
   "outputs": [
    {
     "name": "stdout",
     "output_type": "stream",
     "text": [
      "Fizz\n",
      "Not Divisible\n",
      "Condition Done\n"
     ]
    }
   ],
   "source": [
    "fizz = x%3 == 0\n",
    "buzz = x%5 == 0\n",
    "fizzbuzz = fizz and buzz\n",
    "\n",
    "if fizz:\n",
    "    print('Fizz')\n",
    "elif buzz:\n",
    "    print('Buzz')\n",
    "elif fizzbuzz :\n",
    "    print('fizzbuzz')\n",
    "else:\n",
    "    print('Not Divisible')\n",
    "\n",
    "print('Condition Done')"
   ]
  },
  {
   "cell_type": "code",
   "execution_count": 89,
   "id": "2397e368-56a5-4414-9e99-0403b1ee0f3c",
   "metadata": {},
   "outputs": [
    {
     "name": "stdin",
     "output_type": "stream",
     "text": [
      "Enter a Number 15\n"
     ]
    },
    {
     "name": "stdout",
     "output_type": "stream",
     "text": [
      "Fizz\n",
      "End of Program\n"
     ]
    }
   ],
   "source": [
    "integer = int(input('Enter a Number'))\n",
    "fizz = integer%3 == 0\n",
    "buzz = integer%5 == 0\n",
    "fizzbuzz = fizz and buzz \n",
    "\n",
    "if fizz :\n",
    "    print('Fizz')\n",
    "elif buzz:\n",
    "    print('Buzz')\n",
    "elif fizzbuzz:\n",
    "    print('Fizzbuzz')\n",
    "else:\n",
    "    print('Number is not divisible')\n",
    "\n",
    "print('End of Program')"
   ]
  },
  {
   "cell_type": "markdown",
   "id": "91ae072d-1e47-4672-bf0d-10680935b28a",
   "metadata": {},
   "source": [
    "# Grader\n",
    "A = >90\n",
    "B = 80-90\n",
    "C = 80 - 60\n",
    "D = 60 - 50\n",
    "E = 50 -35\n",
    "Fail = < 35\n"
   ]
  },
  {
   "cell_type": "code",
   "execution_count": 206,
   "id": "5b2ff997-bbc5-4538-a527-3873abcbe80d",
   "metadata": {},
   "outputs": [
    {
     "name": "stdin",
     "output_type": "stream",
     "text": [
      "enter your marks 67\n"
     ]
    }
   ],
   "source": [
    "n = int(input('enter your marks'))"
   ]
  },
  {
   "cell_type": "code",
   "execution_count": 218,
   "id": "e5714b63-c925-4ff4-a75c-200a34c432a3",
   "metadata": {},
   "outputs": [
    {
     "name": "stdin",
     "output_type": "stream",
     "text": [
      "enter your marks 90\n"
     ]
    },
    {
     "name": "stdout",
     "output_type": "stream",
     "text": [
      "B\n",
      "end of code\n"
     ]
    }
   ],
   "source": [
    "marks = int(input('enter your marks'))\n",
    "\n",
    "A = marks > 90\n",
    "B = marks <=90 and marks >80\n",
    "c = marks <= 80 and marks >60\n",
    "d = marks <= 60 and marks > 50\n",
    "e = marks<= 50 and marks > 35\n",
    "fail = marks < 35\n",
    "\n",
    "if A:\n",
    "    print(\"A\")\n",
    "elif B:\n",
    "    print(\"B\")\n",
    "elif C:\n",
    "    print(\"C\")\n",
    "elif D:\n",
    "    print(\"D\")\n",
    "elif E:\n",
    "    print(\"E\")\n",
    "else :\n",
    "    print(\"Fail\")\n",
    "\n",
    "print('end of code')"
   ]
  },
  {
   "cell_type": "code",
   "execution_count": 105,
   "id": "732d393d-41fd-4f44-b7b1-c028d776e919",
   "metadata": {},
   "outputs": [
    {
     "name": "stdin",
     "output_type": "stream",
     "text": [
      "enter a your last_name :  sakpal\n",
      "enter your first_name :  anushka\n"
     ]
    },
    {
     "name": "stdout",
     "output_type": "stream",
     "text": [
      "sakpal anushka\n",
      "l\n"
     ]
    }
   ],
   "source": [
    "last_name = input(\"enter a your last_name : \")\n",
    "first_name = input(\"enter your first_name : \")\n",
    "result = last_name + \" \" + first_name\n",
    "print(result)\n",
    "print(result[5])"
   ]
  },
  {
   "cell_type": "code",
   "execution_count": 17,
   "id": "5709db6c-bf97-4d95-b138-f5eabc2dc4b5",
   "metadata": {},
   "outputs": [
    {
     "name": "stdin",
     "output_type": "stream",
     "text": [
      "enter your full name hannah anna\n",
      "enter your first name anna\n"
     ]
    },
    {
     "data": {
      "text/plain": [
       "1"
      ]
     },
     "execution_count": 17,
     "metadata": {},
     "output_type": "execute_result"
    }
   ],
   "source": [
    "str1 = input(\"enter your full name\")\n",
    "str2 = input(\"enter your first name\")\n",
    "\n",
    "str1.find(str2)"
   ]
  },
  {
   "cell_type": "markdown",
   "id": "4d3ab864-1339-4be4-a96d-c37bc921897b",
   "metadata": {},
   "source": [
    "# LIST\n"
   ]
  },
  {
   "cell_type": "code",
   "execution_count": null,
   "id": "5505b81e-14a8-46e5-a6af-53a5afa86994",
   "metadata": {},
   "outputs": [],
   "source": [
    "list = []\n",
    "list2 = list()"
   ]
  },
  {
   "cell_type": "code",
   "execution_count": 125,
   "id": "b3474e2f-ea40-4e5b-8119-4563e598b83b",
   "metadata": {},
   "outputs": [
    {
     "name": "stdout",
     "output_type": "stream",
     "text": [
      "[1, 1, 2, 3, 'hi', {'bye': [1.2, 1]}]\n"
     ]
    }
   ],
   "source": [
    "list1 = [1,1,2,3,'hi', {'bye': [1.2, 1]}]\n",
    "list2 = list(list1)\n",
    "print(list2)"
   ]
  },
  {
   "cell_type": "code",
   "execution_count": 21,
   "id": "e8987242-60e7-4898-b35a-362c9075afdd",
   "metadata": {},
   "outputs": [
    {
     "data": {
      "text/plain": [
       "[1, 1, 2, 3, 'hi', {'bye': [1.2, 1]}]"
      ]
     },
     "execution_count": 21,
     "metadata": {},
     "output_type": "execute_result"
    }
   ],
   "source": [
    "list1 = [1,1,2,3,'hi', {'bye': [1.2, 1]}]\n",
    "list1"
   ]
  },
  {
   "cell_type": "code",
   "execution_count": 128,
   "id": "e7b710bb-0b52-4d8e-ad8d-2dd5b88b360c",
   "metadata": {},
   "outputs": [
    {
     "data": {
      "text/plain": [
       "list"
      ]
     },
     "execution_count": 128,
     "metadata": {},
     "output_type": "execute_result"
    }
   ],
   "source": [
    "type(list2)"
   ]
  },
  {
   "cell_type": "code",
   "execution_count": 22,
   "id": "0eae4b8d-104b-47aa-b602-f425ff1f55f2",
   "metadata": {},
   "outputs": [
    {
     "name": "stdout",
     "output_type": "stream",
     "text": [
      "<class 'list'> <class 'list'>\n"
     ]
    }
   ],
   "source": [
    "print(type(list2), type(list1))"
   ]
  },
  {
   "cell_type": "code",
   "execution_count": 146,
   "id": "c08f3e9e-b930-4c7d-9266-c07b67f2daf2",
   "metadata": {},
   "outputs": [],
   "source": [
    "list13 = [1, 1.1, 'Hello', [1,2,3,4], {'hi':[2,5,8]}]"
   ]
  },
  {
   "cell_type": "code",
   "execution_count": 148,
   "id": "db26c99a-4ea3-4892-b9c7-472baaf18071",
   "metadata": {},
   "outputs": [
    {
     "name": "stdout",
     "output_type": "stream",
     "text": [
      "[1, 1.1, 'Hello', [1, 2, 3, 4], {'hi': [2, 5, 8]}]\n"
     ]
    }
   ],
   "source": [
    "print(list13)"
   ]
  },
  {
   "cell_type": "code",
   "execution_count": 26,
   "id": "61de7575-b529-4f9e-bb88-e6d9fe7c791d",
   "metadata": {},
   "outputs": [
    {
     "data": {
      "text/plain": [
       "['__add__',\n",
       " '__class__',\n",
       " '__class_getitem__',\n",
       " '__contains__',\n",
       " '__delattr__',\n",
       " '__delitem__',\n",
       " '__dir__',\n",
       " '__doc__',\n",
       " '__eq__',\n",
       " '__format__',\n",
       " '__ge__',\n",
       " '__getattribute__',\n",
       " '__getitem__',\n",
       " '__getstate__',\n",
       " '__gt__',\n",
       " '__hash__',\n",
       " '__iadd__',\n",
       " '__imul__',\n",
       " '__init__',\n",
       " '__init_subclass__',\n",
       " '__iter__',\n",
       " '__le__',\n",
       " '__len__',\n",
       " '__lt__',\n",
       " '__mul__',\n",
       " '__ne__',\n",
       " '__new__',\n",
       " '__reduce__',\n",
       " '__reduce_ex__',\n",
       " '__repr__',\n",
       " '__reversed__',\n",
       " '__rmul__',\n",
       " '__setattr__',\n",
       " '__setitem__',\n",
       " '__sizeof__',\n",
       " '__str__',\n",
       " '__subclasshook__',\n",
       " 'append',\n",
       " 'clear',\n",
       " 'copy',\n",
       " 'count',\n",
       " 'extend',\n",
       " 'index',\n",
       " 'insert',\n",
       " 'pop',\n",
       " 'remove',\n",
       " 'reverse',\n",
       " 'sort']"
      ]
     },
     "execution_count": 26,
     "metadata": {},
     "output_type": "execute_result"
    }
   ],
   "source": [
    "dir(list)"
   ]
  },
  {
   "cell_type": "code",
   "execution_count": 150,
   "id": "10e8be8f-27aa-43b4-a541-6c55aff00c10",
   "metadata": {},
   "outputs": [],
   "source": [
    "list13.append('New value')"
   ]
  },
  {
   "cell_type": "code",
   "execution_count": 152,
   "id": "3e982e8d-cf45-48e2-b77b-06530d7b8144",
   "metadata": {},
   "outputs": [
    {
     "data": {
      "text/plain": [
       "[1, 1.1, 'Hello', [1, 2, 3, 4], {'hi': [2, 5, 8]}, 'New value']"
      ]
     },
     "execution_count": 152,
     "metadata": {},
     "output_type": "execute_result"
    }
   ],
   "source": [
    "list13"
   ]
  },
  {
   "cell_type": "code",
   "execution_count": 1,
   "id": "6df3b90f-0b2b-47c9-a0e2-d59d8bce03cb",
   "metadata": {},
   "outputs": [],
   "source": [
    "s = 'hello'"
   ]
  },
  {
   "cell_type": "code",
   "execution_count": 3,
   "id": "ce472f53-b08c-4c5d-83b7-9fcdc1aa4956",
   "metadata": {},
   "outputs": [],
   "source": [
    "S2 = s.upper()"
   ]
  },
  {
   "cell_type": "code",
   "execution_count": 7,
   "id": "a8068bae-61b1-4c73-a102-2e7549915d64",
   "metadata": {},
   "outputs": [
    {
     "data": {
      "text/plain": [
       "'HELLO'"
      ]
     },
     "execution_count": 7,
     "metadata": {},
     "output_type": "execute_result"
    }
   ],
   "source": [
    "S2"
   ]
  },
  {
   "cell_type": "code",
   "execution_count": 4,
   "id": "ea314e5d-e146-4855-bd7c-038840dff5ec",
   "metadata": {},
   "outputs": [
    {
     "data": {
      "text/plain": [
       "'hello'"
      ]
     },
     "execution_count": 4,
     "metadata": {},
     "output_type": "execute_result"
    }
   ],
   "source": [
    "s.lower()"
   ]
  },
  {
   "cell_type": "code",
   "execution_count": 44,
   "id": "aaf595de-e909-4eed-8aec-59ae65acf5e8",
   "metadata": {},
   "outputs": [
    {
     "name": "stdout",
     "output_type": "stream",
     "text": [
      "[1, 3, 5, 4]\n"
     ]
    }
   ],
   "source": [
    "list1 = [1,3,5]\n",
    "list1.append(4)\n",
    "print(list1)"
   ]
  },
  {
   "cell_type": "code",
   "execution_count": 154,
   "id": "5ad0561a-0751-4562-9a97-a47ad47b9f6b",
   "metadata": {},
   "outputs": [],
   "source": [
    "list13.extend(list1)"
   ]
  },
  {
   "cell_type": "code",
   "execution_count": 156,
   "id": "42d04b64-9156-402b-9fe8-0008bd07680a",
   "metadata": {},
   "outputs": [
    {
     "data": {
      "text/plain": [
       "[1,\n",
       " 1.1,\n",
       " 'Hello',\n",
       " [1, 2, 3, 4],\n",
       " {'hi': [2, 5, 8]},\n",
       " 'New value',\n",
       " 1,\n",
       " 1,\n",
       " 2,\n",
       " 3,\n",
       " 'hi',\n",
       " {'bye': [1.2, 1]}]"
      ]
     },
     "execution_count": 156,
     "metadata": {},
     "output_type": "execute_result"
    }
   ],
   "source": [
    "list13"
   ]
  },
  {
   "cell_type": "code",
   "execution_count": 158,
   "id": "00a5214a-3c10-4838-b083-e09ac18f0a02",
   "metadata": {},
   "outputs": [
    {
     "name": "stdout",
     "output_type": "stream",
     "text": [
      "[1, 1.1, 'Hello', [1, 2, 3, 4], {'hi': [2, 5, 8]}, 'New value', 1, 1, 2, 3, 'hi', {'bye': [1.2, 1]}]\n"
     ]
    }
   ],
   "source": [
    "print(list13)"
   ]
  },
  {
   "cell_type": "code",
   "execution_count": 160,
   "id": "ba5c0b7c-3c70-4507-8ef9-237550af34c1",
   "metadata": {},
   "outputs": [
    {
     "name": "stdout",
     "output_type": "stream",
     "text": [
      "[1, 1.1, 'Hello', [1, 2, 3, 4], {'hi': [2, 5, 8]}, 'New value', 1, 1, 2, 3, 'hi']\n"
     ]
    }
   ],
   "source": [
    "list13.pop()\n",
    "print(list13)"
   ]
  },
  {
   "cell_type": "code",
   "execution_count": 170,
   "id": "fa6ddd3b-ee55-49ca-90cb-677d8dea4626",
   "metadata": {},
   "outputs": [
    {
     "data": {
      "text/plain": [
       "['hi',\n",
       " 3,\n",
       " 2,\n",
       " 1,\n",
       " 1,\n",
       " 'New value',\n",
       " {'hi': [2, 5, 8]},\n",
       " [1, 2, 3, 4],\n",
       " 'Hello',\n",
       " 1.1,\n",
       " 1]"
      ]
     },
     "execution_count": 170,
     "metadata": {},
     "output_type": "execute_result"
    }
   ],
   "source": [
    "list13.reverse()\n",
    "list13"
   ]
  },
  {
   "cell_type": "code",
   "execution_count": 52,
   "id": "5784bfd6-32d5-49eb-9f35-b1c318a66567",
   "metadata": {},
   "outputs": [
    {
     "name": "stdout",
     "output_type": "stream",
     "text": [
      "4\n"
     ]
    }
   ],
   "source": [
    "returned_value = list13.pop()\n",
    "print(returned_value)"
   ]
  },
  {
   "cell_type": "code",
   "execution_count": 54,
   "id": "65917b94-affa-45d2-8947-cb28de7b277c",
   "metadata": {},
   "outputs": [
    {
     "name": "stdout",
     "output_type": "stream",
     "text": [
      "None\n"
     ]
    }
   ],
   "source": [
    "reverse_value = list13.reverse()\n",
    "print(reverse_value)"
   ]
  },
  {
   "cell_type": "code",
   "execution_count": 140,
   "id": "4244c1a3-d201-4028-a28f-da474bc4b4a9",
   "metadata": {},
   "outputs": [],
   "source": [
    "list13.append('alanna')"
   ]
  },
  {
   "cell_type": "code",
   "execution_count": 142,
   "id": "099ed47b-58c2-4e27-abf4-40fc4bad1bbc",
   "metadata": {},
   "outputs": [
    {
     "data": {
      "text/plain": [
       "[1, 1.1, 'Hello', 'alanna']"
      ]
     },
     "execution_count": 142,
     "metadata": {},
     "output_type": "execute_result"
    }
   ],
   "source": [
    "list13"
   ]
  },
  {
   "cell_type": "code",
   "execution_count": 69,
   "id": "9ba8abb3-503b-413b-bfc8-cd420a19027c",
   "metadata": {},
   "outputs": [],
   "source": [
    "list13.clear()"
   ]
  },
  {
   "cell_type": "code",
   "execution_count": 71,
   "id": "f08f6ba6-0f49-465f-8955-9eb211cedb68",
   "metadata": {},
   "outputs": [
    {
     "data": {
      "text/plain": [
       "[]"
      ]
     },
     "execution_count": 71,
     "metadata": {},
     "output_type": "execute_result"
    }
   ],
   "source": [
    "list13"
   ]
  },
  {
   "cell_type": "code",
   "execution_count": 73,
   "id": "55050a6b-182a-4b2e-8d58-a2fc79671272",
   "metadata": {},
   "outputs": [],
   "source": [
    "list13 = [1, 1.1, 'Hello', [1,2,3,4], {'hi':[2,5,8]}]"
   ]
  },
  {
   "cell_type": "code",
   "execution_count": 81,
   "id": "7465a3b5-2960-4cc8-841a-df9c28012975",
   "metadata": {},
   "outputs": [],
   "source": [
    "list13.reverse()"
   ]
  },
  {
   "cell_type": "code",
   "execution_count": 83,
   "id": "fb983375-c0c7-4559-9369-5c24dbdc3023",
   "metadata": {},
   "outputs": [
    {
     "data": {
      "text/plain": [
       "[{'hi': [2, 5, 8]}, [1, 2, 3, 4], 'Hello', 1.1, 1]"
      ]
     },
     "execution_count": 83,
     "metadata": {},
     "output_type": "execute_result"
    }
   ],
   "source": [
    "list13"
   ]
  },
  {
   "cell_type": "markdown",
   "id": "9461b514-23fd-455c-b91f-42bb6c6cda28",
   "metadata": {},
   "source": [
    "# TUPLE\n",
    "   "
   ]
  },
  {
   "cell_type": "code",
   "execution_count": 31,
   "id": "18530efa-aa8c-48e8-ab27-2a67630f327e",
   "metadata": {},
   "outputs": [
    {
     "name": "stdout",
     "output_type": "stream",
     "text": [
      "(1, 2, 3, 4, 5)\n"
     ]
    }
   ],
   "source": [
    "x = (1,2,3,4,5) #default\n",
    "print(x)"
   ]
  },
  {
   "cell_type": "code",
   "execution_count": 39,
   "id": "0a81b9f8-0f3c-495d-9f7b-420bcd7c6d2f",
   "metadata": {},
   "outputs": [
    {
     "data": {
      "text/plain": [
       "(1, 2, 3, 4, 5)"
      ]
     },
     "execution_count": 39,
     "metadata": {},
     "output_type": "execute_result"
    }
   ],
   "source": [
    "X = a,b,c,d,e \n",
    "X"
   ]
  },
  {
   "cell_type": "code",
   "execution_count": 42,
   "id": "64e3fd6a-565e-4e03-9954-59ceeff69280",
   "metadata": {},
   "outputs": [],
   "source": [
    "def x():\n",
    "    return 1, 2"
   ]
  },
  {
   "cell_type": "code",
   "execution_count": 44,
   "id": "7f810e48-b9cd-4794-a2c6-0e7a9a40e998",
   "metadata": {},
   "outputs": [],
   "source": [
    "a,b = x()"
   ]
  },
  {
   "cell_type": "code",
   "execution_count": 94,
   "id": "88bf44ae-3532-4ad7-9ad5-0e3dd5aa52d4",
   "metadata": {},
   "outputs": [
    {
     "data": {
      "text/plain": [
       "tuple"
      ]
     },
     "execution_count": 94,
     "metadata": {},
     "output_type": "execute_result"
    }
   ],
   "source": [
    "x = (1,4,7)\n",
    "type(x)"
   ]
  },
  {
   "cell_type": "code",
   "execution_count": 98,
   "id": "714124aa-e444-4b12-996f-d40df8c8fc6c",
   "metadata": {},
   "outputs": [
    {
     "data": {
      "text/plain": [
       "['__add__',\n",
       " '__class__',\n",
       " '__class_getitem__',\n",
       " '__contains__',\n",
       " '__delattr__',\n",
       " '__dir__',\n",
       " '__doc__',\n",
       " '__eq__',\n",
       " '__format__',\n",
       " '__ge__',\n",
       " '__getattribute__',\n",
       " '__getitem__',\n",
       " '__getnewargs__',\n",
       " '__getstate__',\n",
       " '__gt__',\n",
       " '__hash__',\n",
       " '__init__',\n",
       " '__init_subclass__',\n",
       " '__iter__',\n",
       " '__le__',\n",
       " '__len__',\n",
       " '__lt__',\n",
       " '__mul__',\n",
       " '__ne__',\n",
       " '__new__',\n",
       " '__reduce__',\n",
       " '__reduce_ex__',\n",
       " '__repr__',\n",
       " '__rmul__',\n",
       " '__setattr__',\n",
       " '__sizeof__',\n",
       " '__str__',\n",
       " '__subclasshook__',\n",
       " 'count',\n",
       " 'index']"
      ]
     },
     "execution_count": 98,
     "metadata": {},
     "output_type": "execute_result"
    }
   ],
   "source": [
    "dir(x)"
   ]
  },
  {
   "cell_type": "markdown",
   "id": "a78ed58d-5d8b-4e5d-843b-0f1c2bb36139",
   "metadata": {},
   "source": [
    " **Dictionary**"
   ]
  },
  {
   "cell_type": "code",
   "execution_count": 115,
   "id": "b716eac1-4c2d-4f2f-95ca-0f00cfa00e92",
   "metadata": {},
   "outputs": [
    {
     "data": {
      "text/plain": [
       "{'key1': [2, 4, 5], 'key2': [3, 9, 5]}"
      ]
     },
     "execution_count": 115,
     "metadata": {},
     "output_type": "execute_result"
    }
   ],
   "source": [
    "{'key1': [2,4,5],'key2': [3,9,5]}"
   ]
  },
  {
   "cell_type": "code",
   "execution_count": 117,
   "id": "6927965b-cc52-4d8b-8da8-c968acd1a6b9",
   "metadata": {},
   "outputs": [],
   "source": [
    "sm = {'open': (1,2,3), 'close': 5, 'High': [1,2,3,5,4], 'low':[1,2,3,4]}"
   ]
  },
  {
   "cell_type": "code",
   "execution_count": 123,
   "id": "bf8a34fb-cf4e-452c-bc61-fadab227188b",
   "metadata": {},
   "outputs": [
    {
     "data": {
      "text/plain": [
       "{'open': (1, 2, 3), 'close': 5, 'High': [1, 2, 3, 5, 4], 'low': [1, 2, 3, 4]}"
      ]
     },
     "execution_count": 123,
     "metadata": {},
     "output_type": "execute_result"
    }
   ],
   "source": [
    "sm"
   ]
  },
  {
   "cell_type": "code",
   "execution_count": 126,
   "id": "79fe6063-b1ee-4424-9cca-6ae1aeb461fe",
   "metadata": {},
   "outputs": [
    {
     "data": {
      "text/plain": [
       "dict_keys(['open', 'close', 'High', 'low'])"
      ]
     },
     "execution_count": 126,
     "metadata": {},
     "output_type": "execute_result"
    }
   ],
   "source": [
    "sm.keys()"
   ]
  },
  {
   "cell_type": "code",
   "execution_count": 128,
   "id": "dc591011-8210-4f41-a0aa-96bf7c0428f3",
   "metadata": {},
   "outputs": [
    {
     "data": {
      "text/plain": [
       "dict_values([(1, 2, 3), 5, [1, 2, 3, 5, 4], [1, 2, 3, 4]])"
      ]
     },
     "execution_count": 128,
     "metadata": {},
     "output_type": "execute_result"
    }
   ],
   "source": [
    "sm.values()"
   ]
  },
  {
   "cell_type": "code",
   "execution_count": 130,
   "id": "3637f5e6-7a2f-4c8d-8268-6da7bfe3f4b7",
   "metadata": {},
   "outputs": [
    {
     "data": {
      "text/plain": [
       "['open', 'close', 'High', 'low']"
      ]
     },
     "execution_count": 130,
     "metadata": {},
     "output_type": "execute_result"
    }
   ],
   "source": [
    "list(sm.keys())"
   ]
  },
  {
   "cell_type": "code",
   "execution_count": 148,
   "id": "16a2bf1f-00ae-4ae2-903f-32b12761e9ad",
   "metadata": {},
   "outputs": [
    {
     "name": "stdout",
     "output_type": "stream",
     "text": [
      "['Mirzapur', 'inception', 'tumbad', 'lagaan', 'Got', 'krish']\n",
      "['Mirzapur', 'inception', 'tumbad', 'Got', 'krish']\n"
     ]
    }
   ],
   "source": [
    "list2 = ['Mirzapur', 'inception', 'tumbad', 'lagaan','Got']\n",
    "list2.append('krish')\n",
    "print(list2)\n",
    "list2.remove('lagaan')\n",
    "print(list2)"
   ]
  },
  {
   "cell_type": "code",
   "execution_count": 150,
   "id": "2b66182f-be97-4339-950e-cec84166e8ef",
   "metadata": {},
   "outputs": [],
   "source": [
    "list2.append('lagaan')"
   ]
  },
  {
   "cell_type": "code",
   "execution_count": 152,
   "id": "2df45daa-b7ec-46ce-a5cd-beeb5426ddc7",
   "metadata": {},
   "outputs": [
    {
     "data": {
      "text/plain": [
       "['Mirzapur', 'inception', 'tumbad', 'Got', 'krish', 'lagaan']"
      ]
     },
     "execution_count": 152,
     "metadata": {},
     "output_type": "execute_result"
    }
   ],
   "source": [
    "list2"
   ]
  },
  {
   "cell_type": "code",
   "execution_count": 136,
   "id": "d1f8700d-165a-431d-82eb-12552db42baf",
   "metadata": {},
   "outputs": [],
   "source": [
    "tumbad = 5\n",
    "lagaan = 6\n",
    "got = 7\n"
   ]
  },
  {
   "cell_type": "code",
   "execution_count": 138,
   "id": "3808bd18-2991-4201-9ff3-2db061e3a06d",
   "metadata": {},
   "outputs": [
    {
     "data": {
      "text/plain": [
       "['Mirzapur', 'inception', 'tumbad', 'lagaan', 'Got']"
      ]
     },
     "execution_count": 138,
     "metadata": {},
     "output_type": "execute_result"
    }
   ],
   "source": [
    "list2"
   ]
  },
  {
   "cell_type": "code",
   "execution_count": null,
   "id": "3f40b61c-8d33-4b30-b5d2-223938b8d9b3",
   "metadata": {},
   "outputs": [],
   "source": [
    "list2.append"
   ]
  },
  {
   "cell_type": "code",
   "execution_count": 154,
   "id": "28952b16-60f4-4e86-beea-3f635f21dfe3",
   "metadata": {},
   "outputs": [
    {
     "name": "stdout",
     "output_type": "stream",
     "text": [
      "15\n"
     ]
    }
   ],
   "source": [
    "num1 = 5\n",
    "num2 = 10\n",
    "print(num1 + num2)"
   ]
  },
  {
   "cell_type": "code",
   "execution_count": 162,
   "id": "1939da8a-c8dd-4a6b-91de-e4d6093ffa6d",
   "metadata": {},
   "outputs": [
    {
     "name": "stdout",
     "output_type": "stream",
     "text": [
      "5  + 10 = 15\n"
     ]
    }
   ],
   "source": [
    "num1 = 5\n",
    "num2 = 10\n",
    "print(f'{num1}  + {num2} = {num1+num2}')"
   ]
  },
  {
   "cell_type": "code",
   "execution_count": 7,
   "id": "f9c85b18-49b5-448e-84ad-db86f569d484",
   "metadata": {},
   "outputs": [
    {
     "name": "stdin",
     "output_type": "stream",
     "text": [
      "enter your name : Anushka\n"
     ]
    },
    {
     "name": "stdout",
     "output_type": "stream",
     "text": [
      "welcome Anushka\n"
     ]
    }
   ],
   "source": [
    "name = input('enter your name :')\n",
    "print(f'welcome {name}') "
   ]
  },
  {
   "cell_type": "code",
   "execution_count": 168,
   "id": "c3cf9357-4e32-4b2d-9100-eee229eac9d3",
   "metadata": {},
   "outputs": [
    {
     "name": "stdout",
     "output_type": "stream",
     "text": [
      "Element at index 0: 1\n"
     ]
    }
   ],
   "source": [
    "my_tuple = (1,2,3)\n",
    "print(f\"Element at index 0: {my_tuple[0]}\")"
   ]
  },
  {
   "cell_type": "code",
   "execution_count": 182,
   "id": "226ae219-12ab-41f6-a32e-3c731a9b1f65",
   "metadata": {},
   "outputs": [
    {
     "name": "stdout",
     "output_type": "stream",
     "text": [
      "66\n"
     ]
    }
   ],
   "source": [
    "tuple = (11,33,66,77)\n",
    "print(tuple[2])"
   ]
  },
  {
   "cell_type": "code",
   "execution_count": 170,
   "id": "e7edaf74-b6c3-4537-a360-ece83c57828d",
   "metadata": {},
   "outputs": [
    {
     "name": "stdout",
     "output_type": "stream",
     "text": [
      "Element at index 2: 33\n"
     ]
    }
   ],
   "source": [
    "my_tuple = (44,28,33)\n",
    "print(f\"Element at index 2: {my_tuple[2]}\")"
   ]
  },
  {
   "cell_type": "code",
   "execution_count": null,
   "id": "13a26d10-df58-494a-abb1-432de2e81e3d",
   "metadata": {},
   "outputs": [],
   "source": []
  },
  {
   "cell_type": "code",
   "execution_count": null,
   "id": "e7d3e7c8-5abb-4239-9e20-d87876c05452",
   "metadata": {},
   "outputs": [],
   "source": []
  }
 ],
 "metadata": {
  "kernelspec": {
   "display_name": "Python 3 (ipykernel)",
   "language": "python",
   "name": "python3"
  },
  "language_info": {
   "codemirror_mode": {
    "name": "ipython",
    "version": 3
   },
   "file_extension": ".py",
   "mimetype": "text/x-python",
   "name": "python",
   "nbconvert_exporter": "python",
   "pygments_lexer": "ipython3",
   "version": "3.12.4"
  }
 },
 "nbformat": 4,
 "nbformat_minor": 5
}
