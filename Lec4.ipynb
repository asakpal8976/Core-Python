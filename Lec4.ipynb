{
 "cells": [
  {
   "cell_type": "code",
   "execution_count": 1,
   "id": "cf4af4d1-b68f-422f-b218-397369eaa80c",
   "metadata": {},
   "outputs": [
    {
     "name": "stdout",
     "output_type": "stream",
     "text": [
      " Multiplication of 1 is : \n",
      " 1 * 1 = 1\n",
      " 1 * 2 = 2\n",
      " 1 * 3 = 3\n",
      " 1 * 4 = 4\n",
      " 1 * 5 = 5\n",
      " 1 * 6 = 6\n",
      " 1 * 7 = 7\n",
      " 1 * 8 = 8\n",
      " 1 * 9 = 9\n",
      " 1 * 10 = 10\n",
      " Multiplication of 2 is : \n",
      " 2 * 1 = 2\n",
      " 2 * 2 = 4\n",
      " 2 * 3 = 6\n",
      " 2 * 4 = 8\n",
      " 2 * 5 = 10\n",
      " 2 * 6 = 12\n",
      " 2 * 7 = 14\n",
      " 2 * 8 = 16\n",
      " 2 * 9 = 18\n",
      " 2 * 10 = 20\n",
      " Multiplication of 3 is : \n",
      " 3 * 1 = 3\n",
      " 3 * 2 = 6\n",
      " 3 * 3 = 9\n",
      " 3 * 4 = 12\n",
      " 3 * 5 = 15\n",
      " 3 * 6 = 18\n",
      " 3 * 7 = 21\n",
      " 3 * 8 = 24\n",
      " 3 * 9 = 27\n",
      " 3 * 10 = 30\n",
      " Multiplication of 4 is : \n",
      " 4 * 1 = 4\n",
      " 4 * 2 = 8\n",
      " 4 * 3 = 12\n",
      " 4 * 4 = 16\n",
      " 4 * 5 = 20\n",
      " 4 * 6 = 24\n",
      " 4 * 7 = 28\n",
      " 4 * 8 = 32\n",
      " 4 * 9 = 36\n",
      " 4 * 10 = 40\n",
      " Multiplication of 5 is : \n",
      " 5 * 1 = 5\n",
      " 5 * 2 = 10\n",
      " 5 * 3 = 15\n",
      " 5 * 4 = 20\n",
      " 5 * 5 = 25\n",
      " 5 * 6 = 30\n",
      " 5 * 7 = 35\n",
      " 5 * 8 = 40\n",
      " 5 * 9 = 45\n",
      " 5 * 10 = 50\n",
      " Multiplication of 6 is : \n",
      " 6 * 1 = 6\n",
      " 6 * 2 = 12\n",
      " 6 * 3 = 18\n",
      " 6 * 4 = 24\n",
      " 6 * 5 = 30\n",
      " 6 * 6 = 36\n",
      " 6 * 7 = 42\n",
      " 6 * 8 = 48\n",
      " 6 * 9 = 54\n",
      " 6 * 10 = 60\n",
      " Multiplication of 7 is : \n",
      "\n",
      "\n"
     ]
    }
   ],
   "source": [
    "# Wap 1-10 multiplication table\n",
    "#n = int(input(\"enter a number\"))\n",
    "for i in range(1,11):\n",
    "    print(f' Multiplication of {i} is : ')\n",
    "    if i == 7:break\n",
    "    for j in range(1,11): # Nested loop\n",
    "        print(f' {i} * {j} = {i * j}')\n",
    "        #print('\\t')\n",
    "        \n",
    "print('\\n')\n",
    "        "
   ]
  },
  {
   "cell_type": "code",
   "execution_count": 2,
   "id": "3364c9b4-857c-4db7-83bd-541d2478daa0",
   "metadata": {},
   "outputs": [
    {
     "name": "stdout",
     "output_type": "stream",
     "text": [
      " Multiplication of 1 is : \n",
      "1 * 1 = 1\n",
      "1 * 2 = 2\n",
      "1 * 3 = 3\n",
      "1 * 4 = 4\n",
      "1 * 5 = 5\n",
      "1 * 6 = 6\n",
      "1 * 7 = 7\n",
      "1 * 8 = 8\n",
      "1 * 9 = 9\n",
      "1 * 10 = 10\n",
      " Multiplication of 2 is : \n",
      "2 * 1 = 2\n",
      "2 * 2 = 4\n",
      "2 * 3 = 6\n",
      "2 * 4 = 8\n",
      "2 * 5 = 10\n",
      "2 * 6 = 12\n",
      "2 * 7 = 14\n",
      "2 * 8 = 16\n",
      "2 * 9 = 18\n",
      "2 * 10 = 20\n",
      " Multiplication of 3 is : \n",
      "3 * 1 = 3\n",
      "3 * 2 = 6\n",
      "3 * 3 = 9\n",
      "3 * 4 = 12\n",
      "3 * 5 = 15\n",
      "3 * 6 = 18\n",
      "3 * 7 = 21\n",
      "3 * 8 = 24\n",
      "3 * 9 = 27\n",
      "3 * 10 = 30\n",
      " Multiplication of 4 is : \n",
      "4 * 1 = 4\n",
      "4 * 2 = 8\n",
      "4 * 3 = 12\n",
      "4 * 4 = 16\n",
      "4 * 5 = 20\n",
      "4 * 6 = 24\n",
      "4 * 7 = 28\n",
      "4 * 8 = 32\n",
      "4 * 9 = 36\n",
      "4 * 10 = 40\n",
      " Multiplication of 5 is : \n",
      "5 * 1 = 5\n",
      "5 * 2 = 10\n",
      "5 * 3 = 15\n",
      "5 * 4 = 20\n",
      "5 * 5 = 25\n",
      "5 * 6 = 30\n",
      "5 * 7 = 35\n",
      "5 * 8 = 40\n",
      "5 * 9 = 45\n",
      "5 * 10 = 50\n",
      " Multiplication of 6 is : \n",
      "6 * 1 = 6\n",
      "6 * 2 = 12\n",
      "6 * 3 = 18\n",
      "6 * 4 = 24\n",
      "6 * 5 = 30\n",
      "6 * 6 = 36\n",
      "6 * 7 = 42\n",
      "6 * 8 = 48\n",
      "6 * 9 = 54\n",
      "6 * 10 = 60\n",
      " Multiplication of 7 is : \n",
      "7 * 1 = 7\n",
      "7 * 2 = 14\n",
      "7 * 3 = 21\n",
      "7 * 4 = 28\n",
      "7 * 5 = 35\n",
      "7 * 6 = 42\n",
      "7 * 7 = 49\n",
      "7 * 8 = 56\n",
      "7 * 9 = 63\n",
      "7 * 10 = 70\n",
      " Multiplication of 8 is : \n",
      "8 * 1 = 8\n",
      "8 * 2 = 16\n",
      "8 * 3 = 24\n",
      "8 * 4 = 32\n",
      "8 * 5 = 40\n",
      "8 * 6 = 48\n",
      "8 * 7 = 56\n",
      "8 * 8 = 64\n",
      "8 * 9 = 72\n",
      "8 * 10 = 80\n",
      " Multiplication of 9 is : \n",
      "9 * 1 = 9\n",
      "9 * 2 = 18\n",
      "9 * 3 = 27\n",
      "9 * 4 = 36\n",
      "9 * 5 = 45\n",
      "9 * 6 = 54\n",
      "9 * 7 = 63\n",
      "9 * 8 = 72\n",
      "9 * 9 = 81\n",
      "9 * 10 = 90\n",
      " Multiplication of 10 is : \n",
      "10 * 1 = 10\n",
      "10 * 2 = 20\n",
      "10 * 3 = 30\n",
      "10 * 4 = 40\n",
      "10 * 5 = 50\n",
      "10 * 6 = 60\n",
      "10 * 7 = 70\n",
      "10 * 8 = 80\n",
      "10 * 9 = 90\n",
      "10 * 10 = 100\n",
      "\n",
      "\n"
     ]
    }
   ],
   "source": [
    "for i in range(1,11):\n",
    "    print(f' Multiplication of {i} is : ')\n",
    "    for j in range(1,11):\n",
    "        print(f'{i} * {j} = {i*j}')\n",
    "        \n",
    "print('\\n')\n",
    "   "
   ]
  },
  {
   "cell_type": "code",
   "execution_count": 3,
   "id": "9600409d-8a19-449b-8696-d77b09e6e282",
   "metadata": {},
   "outputs": [
    {
     "name": "stdin",
     "output_type": "stream",
     "text": [
      "enter a no. 7\n"
     ]
    },
    {
     "name": "stdout",
     "output_type": "stream",
     "text": [
      "*\n",
      "**\n",
      "***\n",
      "****\n",
      "*****\n",
      "******\n"
     ]
    }
   ],
   "source": [
    "# print star pattern\n",
    "n = int(input('enter a no.'))\n",
    "for i in range (1,n):\n",
    "    print(i*'*', end ='')\n",
    "    print()"
   ]
  },
  {
   "cell_type": "code",
   "execution_count": 4,
   "id": "ea25055e-431a-41d9-a1c9-a9ae02e881c5",
   "metadata": {},
   "outputs": [
    {
     "name": "stdin",
     "output_type": "stream",
     "text": [
      "Enter a Number 9\n"
     ]
    },
    {
     "name": "stdout",
     "output_type": "stream",
     "text": [
      "*\n",
      "**\n",
      "***\n",
      "****\n",
      "*****\n",
      "******\n",
      "*******\n",
      "********\n"
     ]
    }
   ],
   "source": [
    "n = int(input('Enter a Number'))\n",
    "for i in range(1,n):\n",
    "    print(i*'*', end = '')\n",
    "    print()\n",
    "    "
   ]
  },
  {
   "cell_type": "code",
   "execution_count": 5,
   "id": "275ef1ba-664d-4fab-ae58-14af92aed6af",
   "metadata": {},
   "outputs": [
    {
     "name": "stdin",
     "output_type": "stream",
     "text": [
      "enter a no. 7\n"
     ]
    },
    {
     "name": "stdout",
     "output_type": "stream",
     "text": [
      "*******\n",
      "******\n",
      "*****\n",
      "****\n",
      "***\n",
      "**\n",
      "*\n"
     ]
    }
   ],
   "source": [
    "n = int(input('enter a no.'))\n",
    "for i in range (n,0,-1):\n",
    "    print(i*'*', end ='')\n",
    "    print()"
   ]
  },
  {
   "cell_type": "code",
   "execution_count": 6,
   "id": "74e326d7-423d-41f4-98cb-0484fdbfd68d",
   "metadata": {},
   "outputs": [
    {
     "name": "stdout",
     "output_type": "stream",
     "text": [
      "0\t-1\t-2\t-3\t-4\t-5\t-6\t-7\t-8\t-9\t"
     ]
    }
   ],
   "source": [
    "# print number 0- -10\n",
    "for i in range (0,-10,-1):\n",
    "    print(i, end = '\\t')"
   ]
  },
  {
   "cell_type": "code",
   "execution_count": 7,
   "id": "2ae94d45-c338-441b-afc4-ba15c0787b8b",
   "metadata": {},
   "outputs": [
    {
     "name": "stdout",
     "output_type": "stream",
     "text": [
      "55\n"
     ]
    }
   ],
   "source": [
    "# print sum of no 1 - 10 using for loop\n",
    "\n",
    "total = 0\n",
    "for num in range(1,11):\n",
    "    total = total + num\n",
    "\n",
    "print(total)\n",
    "# Logic\n",
    "# 0 1 = 1\n",
    "# 1 2 = 3\n",
    "# 3 3 = 6\n",
    "# 6 4 = 10 & so on..."
   ]
  },
  {
   "cell_type": "code",
   "execution_count": 8,
   "id": "db8ef609-c1eb-4b86-b755-89103bbe731d",
   "metadata": {},
   "outputs": [
    {
     "name": "stdout",
     "output_type": "stream",
     "text": [
      "55\n"
     ]
    }
   ],
   "source": [
    "total = 0\n",
    "for num in range(1,11):\n",
    "    total +=  num\n",
    "\n",
    "print(total)"
   ]
  },
  {
   "cell_type": "code",
   "execution_count": 9,
   "id": "a22cb522-a542-4390-9d26-5bedecbb0ad2",
   "metadata": {},
   "outputs": [
    {
     "name": "stdout",
     "output_type": "stream",
     "text": [
      "1\t2\t3\t4\t5\t6\t7\t8\t9\t"
     ]
    }
   ],
   "source": [
    "# print numbers 1 - 10 using for loop\n",
    "for i in range (1, 10,1):\n",
    "    print(i, end = '\\t')"
   ]
  },
  {
   "cell_type": "code",
   "execution_count": 10,
   "id": "10dd91b8-7305-4d44-a994-f33846321497",
   "metadata": {},
   "outputs": [
    {
     "name": "stdout",
     "output_type": "stream",
     "text": [
      "1\t3\t5\t7\t9\t"
     ]
    }
   ],
   "source": [
    "# print odd numbers from 1 - 10 using for loop\n",
    "for i in range (1,10,2):\n",
    "    print(i, end = '\\t')"
   ]
  },
  {
   "cell_type": "code",
   "execution_count": 11,
   "id": "ac026988-447e-4a0f-8c93-33790e1e9ad8",
   "metadata": {},
   "outputs": [
    {
     "name": "stdout",
     "output_type": "stream",
     "text": [
      "0\t2\t4\t6\t8\t"
     ]
    }
   ],
   "source": [
    "# print even numbers from 1 -10 \n",
    "for i in range (0,10,2):\n",
    "    print(i, end = '\\t')"
   ]
  },
  {
   "cell_type": "code",
   "execution_count": 12,
   "id": "6c3e791d-addb-41ab-bb04-254662a1c413",
   "metadata": {},
   "outputs": [
    {
     "name": "stdout",
     "output_type": "stream",
     "text": [
      "5\t10\t15\t20\t25\t"
     ]
    }
   ],
   "source": [
    "# print the first 5 multiples of 5 using a for loop\n",
    "for i in range (1,6):\n",
    "    print(i * 5 , end = '\\t')"
   ]
  },
  {
   "cell_type": "code",
   "execution_count": 13,
   "id": "a90d4031-da50-4762-ab2d-9dc34fc26ff8",
   "metadata": {},
   "outputs": [
    {
     "name": "stdout",
     "output_type": "stream",
     "text": [
      "55\n"
     ]
    }
   ],
   "source": [
    "# print the sum of number from 1 -10 using a for loop\n",
    "total = 0\n",
    "for num in range(1,11):\n",
    "    total = total + num\n",
    "\n",
    "print(total)"
   ]
  },
  {
   "cell_type": "code",
   "execution_count": 14,
   "id": "673ac778-f3d7-4254-b825-180fe4ee996c",
   "metadata": {},
   "outputs": [
    {
     "name": "stdout",
     "output_type": "stream",
     "text": [
      "3\t6\t9\t12\t15\t18\t21\t24\t27\t30\t"
     ]
    }
   ],
   "source": [
    "# print the first 10 multiples of 3\n",
    "for i in range (1,11):\n",
    "    print(i * 3 , end = '\\t')"
   ]
  },
  {
   "cell_type": "code",
   "execution_count": 15,
   "id": "0ebcb3e0-f1c9-444f-b447-8df92e3011f7",
   "metadata": {},
   "outputs": [
    {
     "name": "stdout",
     "output_type": "stream",
     "text": [
      "\n",
      "\n",
      " 1 * 1 = 1\n",
      " 1 * 2 = 2\n",
      " 1 * 3 = 3\n",
      " 1 * 4 = 4\n",
      " 1 * 5 = 5\n",
      " 1 * 6 = 6\n",
      " 1 * 7 = 7\n",
      " 1 * 8 = 8\n",
      " 1 * 9 = 9\n",
      " 1 * 10 = 10\n",
      "\n",
      "\n",
      " 2 * 1 = 2\n",
      " 2 * 2 = 4\n",
      " 2 * 3 = 6\n",
      " 2 * 4 = 8\n",
      " 2 * 5 = 10\n",
      " 2 * 6 = 12\n",
      " 2 * 7 = 14\n",
      " 2 * 8 = 16\n",
      " 2 * 9 = 18\n",
      " 2 * 10 = 20\n"
     ]
    }
   ],
   "source": [
    "# print the product of number from 1 to 5 \n",
    "\n",
    "for i in range(1,6):\n",
    "    if  i == 3 : break\n",
    "    print('\\n')\n",
    "    for j in range(1,11):\n",
    "        print(f' {i} * {j} = {i * j}')"
   ]
  },
  {
   "cell_type": "code",
   "execution_count": 5,
   "id": "ebf3239f-6020-4b10-9ee2-697bf0161062",
   "metadata": {},
   "outputs": [
    {
     "name": "stdout",
     "output_type": "stream",
     "text": [
      "48\n"
     ]
    }
   ],
   "source": [
    "# print the factorial of 5 using a for loop\n",
    "fact = 2\n",
    "for i in range (1,5):\n",
    "    fact = fact * i\n",
    "print(fact)\n",
    "    "
   ]
  },
  {
   "cell_type": "code",
   "execution_count": 3,
   "id": "243686db-dd2f-4704-bbde-c52b78650b49",
   "metadata": {},
   "outputs": [
    {
     "name": "stdout",
     "output_type": "stream",
     "text": [
      "120\n"
     ]
    }
   ],
   "source": [
    "fact = 5\n",
    "for i in range(1,5):\n",
    "    fact = fact * i\n",
    "\n",
    "print(fact)"
   ]
  },
  {
   "cell_type": "code",
   "execution_count": 17,
   "id": "dfbdf5b7-64ad-4ca9-95b4-df9f71532475",
   "metadata": {},
   "outputs": [
    {
     "name": "stdin",
     "output_type": "stream",
     "text": [
      "enter 11\n"
     ]
    },
    {
     "name": "stdout",
     "output_type": "stream",
     "text": [
      "0\n",
      "1\n",
      "1\n",
      "2\n",
      "3\n",
      "5\n",
      "8\n",
      "13\n",
      "21\n",
      "34\n",
      "55\n"
     ]
    }
   ],
   "source": [
    "# print the fibonacci sequence up to 10 using for loop\n",
    "# sum of last number is the next number in series\n",
    "user = int(input(\"enter\"))\n",
    "a,b= 0,1\n",
    "for i in range(1,user+1):\n",
    "    print(a) #0 #1 #1 #2\n",
    "    c = a + b #1 #1 #2\n",
    "    b=a  #0 #1 #1\n",
    "    a=c #1 #1 #2    "
   ]
  },
  {
   "cell_type": "code",
   "execution_count": 7,
   "id": "8d8bdaab-3d6c-4b84-9329-ee0698633d42",
   "metadata": {},
   "outputs": [
    {
     "name": "stdout",
     "output_type": "stream",
     "text": [
      "[1, 2, 3, 4, 5, 6, 7, 8, 9, 10, 11, 12, 13, 14, 15, 16, 17, 18, 19, 20, 21, 22, 23, 24, 25, 26, 27, 28, 29, 30, 31, 32, 33, 34, 35, 36, 37, 38, 39, 40, 41, 42, 43, 44, 45, 46, 47, 48, 49]\n"
     ]
    }
   ],
   "source": [
    "i = [i for i in range(1,50)]\n",
    "print(i)"
   ]
  },
  {
   "cell_type": "code",
   "execution_count": 18,
   "id": "34493854-9204-46fe-aa89-b234661ea787",
   "metadata": {},
   "outputs": [
    {
     "name": "stdout",
     "output_type": "stream",
     "text": [
      "[1, 2, 3, 4, 5, 6, 7, 8, 9, 10, 11, 12, 13, 14, 15, 16, 17, 18, 19, 20, 21, 22, 23, 24, 25, 26, 27, 28, 29, 30, 31, 32, 33, 34, 35, 36, 37, 38, 39, 40, 41, 42, 43, 44, 45, 46, 47, 48, 49, 50, 51, 52, 53, 54, 55, 56, 57, 58, 59, 60, 61, 62, 63, 64, 65, 66, 67, 68, 69, 70, 71, 72, 73, 74, 75, 76, 77, 78, 79, 80, 81, 82, 83, 84, 85, 86, 87, 88, 89, 90, 91, 92, 93, 94, 95, 96, 97, 98, 99]\n"
     ]
    }
   ],
   "source": [
    "i = [x for x in range(1,100)]\n",
    "print(i)"
   ]
  },
  {
   "cell_type": "code",
   "execution_count": 19,
   "id": "d462af9b-d8ba-4dac-b722-75d41c33ca68",
   "metadata": {},
   "outputs": [
    {
     "name": "stdout",
     "output_type": "stream",
     "text": [
      "[24, 84, 32, 44, 8, 92, 32, 20, 92, 82, 28, 8, 8, 90, 44, 78, 18, 34, 82, 56, 62, 110, 34, 36, 60, 100, 70, 108, 34, 52, 18, 34, 96, 110, 20, 56, 28, 42, 26, 78, 82, 50]\n"
     ]
    }
   ],
   "source": [
    "import random \n",
    "random_numbers = [random.randint(1,111) for i in range(100)]\n",
    "even = [i for i in random_numbers if i%2==0]\n",
    "print(even)"
   ]
  },
  {
   "cell_type": "code",
   "execution_count": 20,
   "id": "64877231-14c7-4fd5-b35e-69333c1a46fc",
   "metadata": {},
   "outputs": [
    {
     "name": "stdout",
     "output_type": "stream",
     "text": [
      "Hello world string\n",
      "[0, 1, 2, 3, 4, 5, 6, 7, 8, 9, 10, 11, 12, 13, 14, 15, 16, 17, 18, 19, 20, 21, 22, 23, 24, 25, 26, 27, 28, 29, 30, 31, 32, 33, 34, 35, 36, 37, 38, 39, 40, 41, 42, 43, 44, 45, 46, 47, 48, 49, 50, 51, 52, 53, 54, 55, 56, 57, 58, 59, 60, 61, 62, 63, 64, 65, 66, 67, 68, 69, 70, 71, 72, 73, 74, 75, 76, 77, 78, 79, 80, 81, 82, 83, 84, 85, 86, 87, 88, 89, 90, 91, 92, 93, 94, 95, 96, 97, 98, 99]\n",
      "list of first 100 no.\n",
      "['H', 'e', 'l', 'l', 'o', 'W', 'o', 'r', 'l', 'd']\n",
      "list of first 100 no. * 2\n",
      "[0, 2, 4, 6, 8, 10, 12, 14, 16, 18, 20, 22, 24, 26, 28, 30, 32, 34, 36, 38, 40, 42, 44, 46, 48, 50, 52, 54, 56, 58, 60, 62, 64, 66, 68, 70, 72, 74, 76, 78, 80, 82, 84, 86, 88, 90, 92, 94, 96, 98, 100, 102, 104, 106, 108, 110, 112, 114, 116, 118, 120, 122, 124, 126, 128, 130, 132, 134, 136, 138, 140, 142, 144, 146, 148, 150, 152, 154, 156, 158, 160, 162, 164, 166, 168, 170, 172, 174, 176, 178, 180, 182, 184, 186, 188, 190, 192, 194, 196, 198]\n"
     ]
    }
   ],
   "source": [
    "string = \"HelloWorld\"\n",
    "lst = list(range(100))\n",
    "\n",
    "lst2 = [Letter for Letter in string]\n",
    "\n",
    "lst3 = [i * 2 for i in lst]\n",
    "\n",
    "print('Hello world string')\n",
    "print(lst)\n",
    "\n",
    "print('list of first 100 no.')\n",
    "print(lst2)\n",
    "\n",
    "print('list of first 100 no. * 2')\n",
    "print(lst3)"
   ]
  },
  {
   "cell_type": "code",
   "execution_count": 21,
   "id": "7a29fe9e-c012-4928-8e62-d41e1bae45ab",
   "metadata": {},
   "outputs": [
    {
     "name": "stdout",
     "output_type": "stream",
     "text": [
      "[0, 2, 4, 6, 8, 10, 12, 14, 16, 18, 20, 22, 24, 26, 28, 30, 32, 34, 36, 38, 40, 42, 44, 46, 48, 50, 52, 54, 56, 58, 60, 62, 64, 66, 68, 70, 72, 74, 76, 78, 80, 82, 84, 86, 88, 90, 92, 94, 96, 98]\n"
     ]
    }
   ],
   "source": [
    "even = [i for i in range(100) if i%2==0]\n",
    "print(even)"
   ]
  },
  {
   "cell_type": "code",
   "execution_count": 22,
   "id": "dbaac046-9ca0-421c-8846-364f617f9621",
   "metadata": {},
   "outputs": [
    {
     "name": "stdout",
     "output_type": "stream",
     "text": [
      "[19, 49, 90, 63, 83, 76, 74, 85, 88, 84, 84, 66, 85, 32, 90, 22, 28, 53, 59, 18, 67, 74, 60, 75, 47, 66, 68, 36, 69, 33, 65, 70, 25, 90, 70, 58, 84, 53, 65, 74, 79, 29, 30, 87, 87, 81, 29, 33, 38, 50, 42, 30, 34, 55, 76, 59, 48, 68, 32, 86, 57, 90, 87, 72, 59, 31, 36, 69, 56, 54, 42, 71, 35, 61, 24, 26, 39, 64]\n"
     ]
    }
   ],
   "source": [
    "guests = [random.randint(1,90) for i in range(100)]\n",
    "entry = [i for i in guests if i >=18]\n",
    "print(entry)"
   ]
  },
  {
   "cell_type": "code",
   "execution_count": 23,
   "id": "a3e69f15-4c8c-4f9c-b4d5-82a2d93b2341",
   "metadata": {},
   "outputs": [
    {
     "name": "stdout",
     "output_type": "stream",
     "text": [
      "[294, 234, 264, 228, 294, 204, 294, 216, 294, 234, 258, 246, 222, 234, 204, 288, 270, 210]\n",
      "\t\n",
      "[264, 231, 231, 286, 209, 253, 286]\n",
      "\t\n",
      "[294, 237, 271, 244, 234, 233, 267, 264, 296, 278, 235, 233, 250, 238, 228, 214, 255, 294, 278, 231, 202, 290, 290, 280, 299, 205, 295, 224, 204, 294, 244, 243, 231, 223, 243, 216, 286, 281, 245, 205, 233, 257, 256, 267, 223, 294, 227, 234, 207, 236, 258, 298, 246, 298, 230, 280, 265, 279, 237, 222, 206, 234, 283, 291, 257, 209, 204, 215, 224, 211, 288, 259, 283, 262, 298, 250, 266, 253, 270, 271, 268, 286, 269, 274, 207, 262, 251, 229, 279, 215, 290, 281, 236, 251, 210, 267, 247, 291, 229, 247]\n"
     ]
    }
   ],
   "source": [
    "import random\n",
    "\n",
    "number = [random.randint(200,301) for _ in range(100)]\n",
    "mult_6 = [i for i in  number if i%6 == 0]\n",
    "print(mult_6)\n",
    "print('\\t')\n",
    "mult_11 = [i for i  in number if i%11 == 0]\n",
    "print(mult_11)\n",
    "print('\\t')\n",
    "print(number)"
   ]
  },
  {
   "cell_type": "markdown",
   "id": "16e68a8f-e4fe-4e08-abad-5327bc38a9a7",
   "metadata": {},
   "source": [
    "# WHILE LOOPS"
   ]
  },
  {
   "cell_type": "code",
   "execution_count": 25,
   "id": "0dcac61d-a8a6-455c-86d9-67c6a913727b",
   "metadata": {},
   "outputs": [
    {
     "name": "stdout",
     "output_type": "stream",
     "text": [
      "012345678910"
     ]
    }
   ],
   "source": [
    "counter = 0\n",
    "while counter <=10:\n",
    "    print(counter, end = '')\n",
    "    counter+=1"
   ]
  },
  {
   "cell_type": "code",
   "execution_count": 26,
   "id": "d7a70d8a-a8ad-4d85-929a-c85c3dc73068",
   "metadata": {},
   "outputs": [
    {
     "name": "stdout",
     "output_type": "stream",
     "text": [
      "109876543210"
     ]
    }
   ],
   "source": [
    "counter = 10\n",
    "while counter >=0:\n",
    "    print(counter, end ='')\n",
    "    counter-=1"
   ]
  },
  {
   "cell_type": "code",
   "execution_count": 27,
   "id": "b09fcacf-6906-4a77-afc8-31b9269afec9",
   "metadata": {},
   "outputs": [
    {
     "name": "stdout",
     "output_type": "stream",
     "text": [
      "pw gnisu ma i ereht yeh ! olleH\n"
     ]
    }
   ],
   "source": [
    "string = 'Hello ! hey there i am using wp'\n",
    "reversed_string = ''\n",
    "size = len(string)\n",
    "\n",
    "while True:\n",
    "    if size == 0:break\n",
    "    reversed_string = reversed_string + string[size-1]\n",
    "    size-=1\n",
    "    \n",
    "print(reversed_string)"
   ]
  },
  {
   "cell_type": "code",
   "execution_count": 28,
   "id": "84de60dc-a6f9-4977-9d6f-33cc6a3613e3",
   "metadata": {},
   "outputs": [
    {
     "name": "stdout",
     "output_type": "stream",
     "text": [
      "lla gnineve dooG iH\n"
     ]
    }
   ],
   "source": [
    "string = 'Hi Good evening all'\n",
    "reversed_string = ''\n",
    "size = len(string)\n",
    "\n",
    "while True:\n",
    "    if size == 0 : break\n",
    "    reversed_string = reversed_string + string[size-1]\n",
    "    size -= 1\n",
    "\n",
    "print(reversed_string)"
   ]
  },
  {
   "cell_type": "code",
   "execution_count": 29,
   "id": "2633f9e4-39bd-4828-bb27-9ec473dc76fb",
   "metadata": {},
   "outputs": [
    {
     "name": "stdout",
     "output_type": "stream",
     "text": [
      "50\n"
     ]
    },
    {
     "name": "stdin",
     "output_type": "stream",
     "text": [
      "enter a number 50\n"
     ]
    },
    {
     "name": "stdout",
     "output_type": "stream",
     "text": [
      "You Won\n"
     ]
    }
   ],
   "source": [
    "import random\n",
    "number = random.randint(1,100)\n",
    "chances = 3\n",
    "print(number)\n",
    "\n",
    "while True:\n",
    "    n = int(input('enter a number'))\n",
    "    if n == number:\n",
    "        print('You Won')\n",
    "        break\n",
    "    elif chances == 1:\n",
    "        print('You are out of chance')\n",
    "        break\n",
    "    elif n < number:\n",
    "        pass\n",
    "    elif n > number:\n",
    "        pass"
   ]
  },
  {
   "cell_type": "code",
   "execution_count": 30,
   "id": "d9c9f503-6da4-4ed2-9a8e-a9ec089d40a1",
   "metadata": {},
   "outputs": [
    {
     "name": "stdout",
     "output_type": "stream",
     "text": [
      "135\n"
     ]
    }
   ],
   "source": [
    "sum = 0\n",
    "for i in range(1,30):\n",
    "    if i%3 == 0:\n",
    "        sum += i\n",
    "print(sum)"
   ]
  },
  {
   "cell_type": "code",
   "execution_count": 31,
   "id": "24253031-f8a2-4254-b24a-95db73289610",
   "metadata": {},
   "outputs": [
    {
     "name": "stdout",
     "output_type": "stream",
     "text": [
      "19\n"
     ]
    }
   ],
   "source": [
    "count = 0\n",
    "for i in range(1,100):\n",
    "    if i % 5 == 0:\n",
    "        count+=1\n",
    "\n",
    "print(count)"
   ]
  },
  {
   "cell_type": "code",
   "execution_count": 32,
   "id": "dc3ee07e-263f-460e-ba8c-41cde44c5f6d",
   "metadata": {},
   "outputs": [
    {
     "name": "stdout",
     "output_type": "stream",
     "text": [
      "1 * 10 = 10\n",
      "2 * 10 = 20\n",
      "3 * 10 = 30\n",
      "4 * 10 = 40\n",
      "5 * 10 = 50\n",
      "6 * 10 = 60\n",
      "7 * 10 = 70\n",
      "8 * 10 = 80\n",
      "9 * 10 = 90\n",
      "10 * 10 = 100\n"
     ]
    }
   ],
   "source": [
    "number = 9\n",
    "for i in range(1,11):\n",
    "    print(f'{i} * {j} = {i*j}')\n"
   ]
  },
  {
   "cell_type": "code",
   "execution_count": 33,
   "id": "f8e161f3-e9df-47f3-a2b4-02d872605984",
   "metadata": {},
   "outputs": [
    {
     "name": "stdout",
     "output_type": "stream",
     "text": [
      "23\n"
     ]
    }
   ],
   "source": [
    "#Python program to count the total number of digits in a number.\n",
    "number = 89710872166666666666666\n",
    "# we cannot iterate over an integer\n",
    "# in python, we need to convert the\n",
    "# integer into string first using the\n",
    "# str() function\n",
    "number = str(number)\n",
    "count = 0\n",
    "for i in number:\n",
    "    count += 1\n",
    "print(count)"
   ]
  },
  {
   "cell_type": "code",
   "execution_count": 13,
   "id": "1955aef4-8ee6-49c0-9a30-70f77fcbff03",
   "metadata": {},
   "outputs": [
    {
     "name": "stdin",
     "output_type": "stream",
     "text": [
      "Enter a String man\n"
     ]
    },
    {
     "name": "stdout",
     "output_type": "stream",
     "text": [
      " string 'man' is palindrome\n"
     ]
    }
   ],
   "source": [
    "string = input('Enter a String')\n",
    "string == string[1::-1] \n",
    "\n",
    "if string :\n",
    "    print(f\" string '{string}' is palindrome\")\n",
    "\n"
   ]
  },
  {
   "cell_type": "code",
   "execution_count": 35,
   "id": "88bb0e48-4267-4529-8453-9f8fdf3ff643",
   "metadata": {},
   "outputs": [
    {
     "name": "stdout",
     "output_type": "stream",
     "text": [
      "dlroW olleH\n"
     ]
    }
   ],
   "source": [
    "#Python program that accepts a word from the user and reverses it.\n",
    "string = 'Hello World'\n",
    "reversed_string = ''\n",
    "\n",
    "for i in string:\n",
    "    reversed_string = i + reversed_string\n",
    "\n",
    "print(reversed_string)"
   ]
  },
  {
   "cell_type": "code",
   "execution_count": null,
   "id": "6c2ba3e5-3469-4949-ae7e-8c0ba70376a2",
   "metadata": {},
   "outputs": [],
   "source": []
  }
 ],
 "metadata": {
  "kernelspec": {
   "display_name": "Python 3 (ipykernel)",
   "language": "python",
   "name": "python3"
  },
  "language_info": {
   "codemirror_mode": {
    "name": "ipython",
    "version": 3
   },
   "file_extension": ".py",
   "mimetype": "text/x-python",
   "name": "python",
   "nbconvert_exporter": "python",
   "pygments_lexer": "ipython3",
   "version": "3.12.4"
  }
 },
 "nbformat": 4,
 "nbformat_minor": 5
}
