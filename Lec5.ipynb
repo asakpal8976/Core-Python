{
 "cells": [
  {
   "cell_type": "code",
   "execution_count": 1,
   "id": "19df3890-0241-4bae-a462-f3df3342a278",
   "metadata": {},
   "outputs": [],
   "source": [
    "# addition of two numbers\n",
    "def add(num1,num2):\n",
    "    \"\"\" Function to return the addition of two numbers \"\"\"\n",
    "    s = num1 + num2\n",
    "    return(s)"
   ]
  },
  {
   "cell_type": "code",
   "execution_count": 49,
   "id": "19a4f9af-3223-4b28-ae83-83e414f48563",
   "metadata": {},
   "outputs": [
    {
     "name": "stdout",
     "output_type": "stream",
     "text": [
      "1\n"
     ]
    }
   ],
   "source": [
    "V1 = add(1,0)\n",
    "print(v1)"
   ]
  },
  {
   "cell_type": "code",
   "execution_count": 3,
   "id": "d10d23b6-3c8b-4ab3-93bf-e48ccd829c54",
   "metadata": {},
   "outputs": [
    {
     "data": {
      "text/plain": [
       "12"
      ]
     },
     "execution_count": 3,
     "metadata": {},
     "output_type": "execute_result"
    }
   ],
   "source": [
    "add(11,1)"
   ]
  },
  {
   "cell_type": "code",
   "execution_count": 23,
   "id": "50c57711-33e7-402e-914e-cf685faadfa2",
   "metadata": {},
   "outputs": [],
   "source": [
    "def mult(num1,num2):\n",
    "    \"\"\" Function to return the product of two numbers\"\"\"\n",
    "    product = num1 * num2\n",
    "    return(product)"
   ]
  },
  {
   "cell_type": "code",
   "execution_count": 25,
   "id": "e6b2e33d-8667-4d8e-9eb6-1c35951174ba",
   "metadata": {},
   "outputs": [
    {
     "name": "stdout",
     "output_type": "stream",
     "text": [
      "110\n"
     ]
    }
   ],
   "source": [
    "v1 = mult(11,10)\n",
    "print(v1)"
   ]
  },
  {
   "cell_type": "code",
   "execution_count": 43,
   "id": "8eb74dd6-51d8-40e1-9d14-734066bedde5",
   "metadata": {},
   "outputs": [],
   "source": [
    "# create function to subtract 2 numbers\n",
    "def sub(num1,num2):\n",
    "    \"\"\"Function to return the subtraction of 2 numbers\"\"\"\n",
    "    subtraction = num1 - num2\n",
    "    return(subtraction)"
   ]
  },
  {
   "cell_type": "code",
   "execution_count": 41,
   "id": "ec03c128-3297-47f3-ac2b-87118951353c",
   "metadata": {},
   "outputs": [
    {
     "name": "stdout",
     "output_type": "stream",
     "text": [
      "1\n"
     ]
    }
   ],
   "source": [
    "v1 = sub(11,10)\n",
    "print(v1)"
   ]
  },
  {
   "cell_type": "code",
   "execution_count": 11,
   "id": "2a7900d8-9b8a-4d2b-92c3-07ed9add5956",
   "metadata": {},
   "outputs": [],
   "source": [
    "def div(num1,num2):\n",
    "    \"\"\"Function to return the divide of 2 numbers\"\"\"\n",
    "    division = num1 / num2\n",
    "    return(division)\n",
    "    "
   ]
  },
  {
   "cell_type": "code",
   "execution_count": 13,
   "id": "30aa181c-c840-4d50-88ef-917366bcb621",
   "metadata": {},
   "outputs": [
    {
     "name": "stdout",
     "output_type": "stream",
     "text": [
      "5.0\n"
     ]
    }
   ],
   "source": [
    "v1 = div(50,10)\n",
    "print(v1)"
   ]
  },
  {
   "cell_type": "code",
   "execution_count": 55,
   "id": "6c9cccad-a40d-4e9f-850c-0923ced36089",
   "metadata": {},
   "outputs": [
    {
     "name": "stdout",
     "output_type": "stream",
     "text": [
      "Writing test_maths.py\n"
     ]
    }
   ],
   "source": [
    "%%writefile test_maths.py\n",
    "\n",
    "def add(num1,num2):\n",
    "    \"\"\" Function to return the addition of two numbers \"\"\"\n",
    "    s = num1 + num2\n",
    "    return(s)\n",
    "\n",
    "def mult(num1,num2):\n",
    "    \"\"\" Function to return the product of two numbers\"\"\"\n",
    "    product = num1 * num2\n",
    "    return(product)\n",
    "\n",
    "def div(num1,num2):\n",
    "    \"\"\"Function to return the divide of 2 numbers\"\"\"\n",
    "    division = num1 % num2\n",
    "    return(division)\n",
    "\n",
    "def expo(num1,num2):\n",
    "    \"\"\"Function to return the exponential of 2 numbers\"\"\"\n",
    "    s = num1 ** num2\n",
    "    return(s)"
   ]
  },
  {
   "cell_type": "code",
   "execution_count": 65,
   "id": "3d8dc60d-c7e5-42f8-9b0f-fe6aede42a56",
   "metadata": {},
   "outputs": [],
   "source": [
    "import test_maths"
   ]
  },
  {
   "cell_type": "code",
   "execution_count": 67,
   "id": "1221097d-a399-4348-8174-4372544ba5ce",
   "metadata": {},
   "outputs": [
    {
     "data": {
      "text/plain": [
       "['__builtins__',\n",
       " '__cached__',\n",
       " '__doc__',\n",
       " '__file__',\n",
       " '__loader__',\n",
       " '__name__',\n",
       " '__package__',\n",
       " '__spec__',\n",
       " 'add',\n",
       " 'div',\n",
       " 'expo',\n",
       " 'mult']"
      ]
     },
     "execution_count": 67,
     "metadata": {},
     "output_type": "execute_result"
    }
   ],
   "source": [
    "dir(test_maths)"
   ]
  },
  {
   "cell_type": "code",
   "execution_count": 5,
   "id": "c3b58327-f23f-4ea4-8ba8-3cb785e3232a",
   "metadata": {},
   "outputs": [
    {
     "name": "stdout",
     "output_type": "stream",
     "text": [
      "4 Hello 8\n"
     ]
    }
   ],
   "source": [
    "def fun(a, b='Hello', c=8):\n",
    "    \"\"\"\n",
    "    fun function\n",
    "    arguements:\n",
    "    a(int) a number required\n",
    "    b(str) a str input default value is hello\n",
    "    c(int) an optional parameter value is 8\n",
    "    \"\"\"\n",
    "    print(a,b,c)\n",
    "    #pass\n",
    "\n",
    "fun(4)"
   ]
  },
  {
   "cell_type": "code",
   "execution_count": 71,
   "id": "1104e617-7f56-4c9a-9ab1-c6ff43ea955a",
   "metadata": {},
   "outputs": [
    {
     "data": {
      "text/plain": [
       "11"
      ]
     },
     "execution_count": 71,
     "metadata": {},
     "output_type": "execute_result"
    }
   ],
   "source": [
    "def name(a,g):\n",
    "    return(a+g)\n",
    "\n",
    "name(1,10)\n",
    "\n"
   ]
  },
  {
   "cell_type": "code",
   "execution_count": 73,
   "id": "6f78b89a-4c3c-4719-a58e-b3c5ef8f38d3",
   "metadata": {},
   "outputs": [
    {
     "data": {
      "text/plain": [
       "'Lessor'"
      ]
     },
     "execution_count": 73,
     "metadata": {},
     "output_type": "execute_result"
    }
   ],
   "source": [
    "var = lambda x,y: 'Greater' if x>y else 'Lessor'\n",
    "var(1,3)"
   ]
  },
  {
   "cell_type": "code",
   "execution_count": 7,
   "id": "cf7ea38a-b261-492f-93c6-01aa17f95b38",
   "metadata": {},
   "outputs": [
    {
     "data": {
      "text/plain": [
       "'lessor'"
      ]
     },
     "execution_count": 7,
     "metadata": {},
     "output_type": "execute_result"
    }
   ],
   "source": [
    "var = lambda x,y: 'Greater' if x>y else 'lessor'\n",
    "var(11,12)"
   ]
  },
  {
   "cell_type": "code",
   "execution_count": 9,
   "id": "93ee4052-80e7-4ab3-9c09-413819e12983",
   "metadata": {},
   "outputs": [
    {
     "data": {
      "text/plain": [
       "1"
      ]
     },
     "execution_count": 9,
     "metadata": {},
     "output_type": "execute_result"
    }
   ],
   "source": [
    "var = lambda x,y : x - y\n",
    "var(10,9)"
   ]
  },
  {
   "cell_type": "code",
   "execution_count": 85,
   "id": "51517200-cb78-4932-802a-8eb14d673d68",
   "metadata": {},
   "outputs": [
    {
     "data": {
      "text/plain": [
       "198"
      ]
     },
     "execution_count": 85,
     "metadata": {},
     "output_type": "execute_result"
    }
   ],
   "source": [
    "var = lambda x,y:x*y\n",
    "var(11,18)"
   ]
  },
  {
   "cell_type": "code",
   "execution_count": 13,
   "id": "2d54e138-0522-4647-9727-c49c88c1426b",
   "metadata": {},
   "outputs": [
    {
     "data": {
      "text/plain": [
       "False"
      ]
     },
     "execution_count": 13,
     "metadata": {},
     "output_type": "execute_result"
    }
   ],
   "source": [
    "checker = lambda x: True if x %2==0 else False\n",
    "\n",
    "checker(91)"
   ]
  },
  {
   "cell_type": "code",
   "execution_count": 19,
   "id": "78d7e16b-bcc2-4a63-910b-45dc27eb535b",
   "metadata": {},
   "outputs": [
    {
     "data": {
      "text/plain": [
       "False"
      ]
     },
     "execution_count": 19,
     "metadata": {},
     "output_type": "execute_result"
    }
   ],
   "source": [
    "checker = lambda x : True if x%2 != 0 else False\n",
    "checker(90)"
   ]
  },
  {
   "cell_type": "code",
   "execution_count": 89,
   "id": "78093a45-57cf-4fb9-bdcd-713b6845a163",
   "metadata": {},
   "outputs": [
    {
     "data": {
      "text/plain": [
       "True"
      ]
     },
     "execution_count": 89,
     "metadata": {},
     "output_type": "execute_result"
    }
   ],
   "source": [
    "checker2 = lambda x,y : x>y\n",
    "checker2(7,3)"
   ]
  },
  {
   "cell_type": "code",
   "execution_count": 93,
   "id": "77939f75-04aa-46d6-b6cb-de8ed3361106",
   "metadata": {},
   "outputs": [
    {
     "data": {
      "text/plain": [
       "363.15"
      ]
     },
     "execution_count": 93,
     "metadata": {},
     "output_type": "execute_result"
    }
   ],
   "source": [
    "cel_to_kel = lambda celsius: celsius + 273.15\n",
    "cel_to_kel(90)"
   ]
  },
  {
   "cell_type": "code",
   "execution_count": 109,
   "id": "14fa3e6e-a33d-47ff-ad9e-4db473ab0769",
   "metadata": {},
   "outputs": [
    {
     "data": {
      "text/plain": [
       "'olleH'"
      ]
     },
     "execution_count": 109,
     "metadata": {},
     "output_type": "execute_result"
    }
   ],
   "source": [
    "reverse_string = lambda string: string[::-1]\n",
    "reverse_string('Hello')"
   ]
  },
  {
   "cell_type": "code",
   "execution_count": null,
   "id": "835a5edd-79fe-45c0-a267-25d2b1400141",
   "metadata": {},
   "outputs": [],
   "source": []
  }
 ],
 "metadata": {
  "kernelspec": {
   "display_name": "Python 3 (ipykernel)",
   "language": "python",
   "name": "python3"
  },
  "language_info": {
   "codemirror_mode": {
    "name": "ipython",
    "version": 3
   },
   "file_extension": ".py",
   "mimetype": "text/x-python",
   "name": "python",
   "nbconvert_exporter": "python",
   "pygments_lexer": "ipython3",
   "version": "3.12.4"
  }
 },
 "nbformat": 4,
 "nbformat_minor": 5
}
