{
 "cells": [
  {
   "cell_type": "markdown",
   "id": "71d38f50-a4b7-4af5-9223-4d7b2e0f9a24",
   "metadata": {},
   "source": [
    "Learning Jupyter Notebook"
   ]
  },
  {
   "cell_type": "markdown",
   "id": "ce6dba04-daaf-4805-b8a7-ecbd5fcb5048",
   "metadata": {},
   "source": [
    "# Heading *"
   ]
  },
  {
   "cell_type": "markdown",
   "id": "6dce917f-3d8d-459e-8abf-313c59f74ebc",
   "metadata": {},
   "source": [
    "## Heading 2"
   ]
  },
  {
   "cell_type": "markdown",
   "id": "ba970309-b969-46f6-81bb-0fc2455b37b5",
   "metadata": {},
   "source": [
    "## Heading 3"
   ]
  },
  {
   "cell_type": "markdown",
   "id": "4e388990-ce8b-436b-8a94-b5bc7e7d55ad",
   "metadata": {},
   "source": [
    "#### Heading 4"
   ]
  },
  {
   "cell_type": "markdown",
   "id": "3c07a82f-f483-4d51-96e4-a3db28696f81",
   "metadata": {},
   "source": [
    "##### Heading 5"
   ]
  },
  {
   "cell_type": "markdown",
   "id": "de0aa7ed-1ede-4bb9-873a-45684479c94e",
   "metadata": {},
   "source": [
    "###### Heading 6"
   ]
  },
  {
   "cell_type": "code",
   "execution_count": 1,
   "id": "45964484-eb08-4dcd-9a91-a018ee490efc",
   "metadata": {},
   "outputs": [
    {
     "name": "stdout",
     "output_type": "stream",
     "text": [
      "Hello World\n"
     ]
    }
   ],
   "source": [
    "print('Hello World')"
   ]
  },
  {
   "cell_type": "markdown",
   "id": "d4182af7-c298-4de6-8943-14dc5f6bb6a9",
   "metadata": {},
   "source": [
    "**hello**"
   ]
  },
  {
   "cell_type": "markdown",
   "id": "9b3b394a-d205-4d27-bdfd-7ae906d99d13",
   "metadata": {},
   "source": [
    "*hello*"
   ]
  },
  {
   "cell_type": "markdown",
   "id": "fa99c9a4-0098-4324-8ed7-b58acf103cf9",
   "metadata": {},
   "source": [
    "~~hello~~"
   ]
  },
  {
   "cell_type": "markdown",
   "id": "569c3245-52ec-4d75-b538-93c5eaa2faa4",
   "metadata": {},
   "source": [
    "~hello~"
   ]
  },
  {
   "cell_type": "markdown",
   "id": "8987d22a-7688-474d-aa68-f699c4a33b7c",
   "metadata": {},
   "source": [
    "```\n",
    "print('hello')\n",
    "```"
   ]
  },
  {
   "cell_type": "markdown",
   "id": "7d786511-5284-4064-b4fa-50a8e3051f04",
   "metadata": {},
   "source": [
    "```\n",
    "print('hello World')\n",
    "```"
   ]
  },
  {
   "cell_type": "code",
   "execution_count": 34,
   "id": "b0230ec3-0668-4b3f-8744-7385cb8fcf07",
   "metadata": {},
   "outputs": [
    {
     "name": "stdout",
     "output_type": "stream",
     "text": [
      "Hello, World!\n",
      "15\n"
     ]
    }
   ],
   "source": [
    "# python\n",
    "print('Hello, World!')\n",
    "x = 5\n",
    "y = 10\n",
    "print(x+y)"
   ]
  },
  {
   "cell_type": "code",
   "execution_count": 5,
   "id": "d77b3e7a-ada2-408b-a686-94b36f103ef8",
   "metadata": {},
   "outputs": [
    {
     "name": "stdout",
     "output_type": "stream",
     "text": [
      "Bye\n"
     ]
    }
   ],
   "source": [
    "print('Bye')"
   ]
  },
  {
   "cell_type": "code",
   "execution_count": 4,
   "id": "23af3a48-6e82-4d84-89ea-b6e9d9b59eaf",
   "metadata": {},
   "outputs": [
    {
     "name": "stdin",
     "output_type": "stream",
     "text": [
      " 9\n"
     ]
    },
    {
     "data": {
      "text/plain": [
       "'9'"
      ]
     },
     "execution_count": 4,
     "metadata": {},
     "output_type": "execute_result"
    }
   ],
   "source": [
    "input()"
   ]
  },
  {
   "cell_type": "code",
   "execution_count": 2,
   "id": "0f07af0c-5e4e-45ca-9fe2-76481899ec27",
   "metadata": {},
   "outputs": [
    {
     "name": "stdin",
     "output_type": "stream",
     "text": [
      " hi\n"
     ]
    },
    {
     "data": {
      "text/plain": [
       "'hi'"
      ]
     },
     "execution_count": 2,
     "metadata": {},
     "output_type": "execute_result"
    }
   ],
   "source": [
    "input()"
   ]
  },
  {
   "cell_type": "markdown",
   "id": "253a132b-d1a9-46e8-a132-48e90a8f6131",
   "metadata": {},
   "source": [
    "- hello\n",
    "    - hi"
   ]
  },
  {
   "cell_type": "markdown",
   "id": "9ef86f51-abfd-4167-8053-30945767e8d5",
   "metadata": {},
   "source": [
    "# literals"
   ]
  },
  {
   "cell_type": "markdown",
   "id": "39039d21-0fe9-4cb9-bf00-69f81186c4b9",
   "metadata": {},
   "source": [
    "# DataTypes"
   ]
  },
  {
   "cell_type": "code",
   "execution_count": 55,
   "id": "e64c991d-97fa-418f-bde2-e48974e14a5e",
   "metadata": {},
   "outputs": [
    {
     "data": {
      "text/plain": [
       "'Anushka'"
      ]
     },
     "execution_count": 55,
     "metadata": {},
     "output_type": "execute_result"
    }
   ],
   "source": [
    "1\n",
    "1.2\n",
    "'Anushka'"
   ]
  },
  {
   "cell_type": "code",
   "execution_count": 57,
   "id": "803f1e88-6d66-47fb-b919-a4c55991f336",
   "metadata": {},
   "outputs": [],
   "source": [
    "integer = 1\n",
    "flt = 1.9\n",
    "string = 'Anushka'"
   ]
  },
  {
   "cell_type": "code",
   "execution_count": 127,
   "id": "7fe4fea4-f0a8-4652-824b-64da1c3d59ad",
   "metadata": {},
   "outputs": [
    {
     "data": {
      "text/plain": [
       "(10.0, float)"
      ]
     },
     "execution_count": 127,
     "metadata": {},
     "output_type": "execute_result"
    }
   ],
   "source": [
    "integer = 10\n",
    "new_var = float(integer)\n",
    "new_var,type(new_var)"
   ]
  },
  {
   "cell_type": "code",
   "execution_count": 8,
   "id": "cd944188-fdb8-423f-a52d-f78e288b3ef8",
   "metadata": {},
   "outputs": [
    {
     "data": {
      "text/plain": [
       "1"
      ]
     },
     "execution_count": 8,
     "metadata": {},
     "output_type": "execute_result"
    }
   ],
   "source": [
    "float = 1.0\n",
    "new_var = int(float)\n",
    "new_var"
   ]
  },
  {
   "cell_type": "code",
   "execution_count": 24,
   "id": "ee853f00-95a7-4757-a530-cf13196cd87c",
   "metadata": {},
   "outputs": [],
   "source": [
    "int = 5\n",
    "float = 2.9\n",
    "string = 'Virat'"
   ]
  },
  {
   "cell_type": "code",
   "execution_count": 30,
   "id": "ad873ff0-2797-470b-bd49-ebbfff089813",
   "metadata": {},
   "outputs": [
    {
     "data": {
      "text/plain": [
       "(10, int)"
      ]
     },
     "execution_count": 30,
     "metadata": {},
     "output_type": "execute_result"
    }
   ],
   "source": [
    "float = 10.5\n",
    "var1 = int(float)\n",
    "var1, type(var1)"
   ]
  },
  {
   "cell_type": "code",
   "execution_count": 73,
   "id": "f9b919c4-b94b-4090-bcbe-4f43cd3997aa",
   "metadata": {},
   "outputs": [
    {
     "name": "stdin",
     "output_type": "stream",
     "text": [
      "Enter your age 21\n"
     ]
    }
   ],
   "source": [
    "age = input('Enter your age')"
   ]
  },
  {
   "cell_type": "code",
   "execution_count": 75,
   "id": "38b93658-1077-4552-897e-e1db78c4ce2a",
   "metadata": {},
   "outputs": [
    {
     "data": {
      "text/plain": [
       "str"
      ]
     },
     "execution_count": 75,
     "metadata": {},
     "output_type": "execute_result"
    }
   ],
   "source": [
    "type(age)"
   ]
  },
  {
   "cell_type": "code",
   "execution_count": 77,
   "id": "d06f4417-b329-4df8-b589-a3b8fddde720",
   "metadata": {},
   "outputs": [
    {
     "data": {
      "text/plain": [
       "21"
      ]
     },
     "execution_count": 77,
     "metadata": {},
     "output_type": "execute_result"
    }
   ],
   "source": [
    "int(age)"
   ]
  },
  {
   "cell_type": "code",
   "execution_count": 59,
   "id": "305e2c12-f8e1-44fc-985c-c294cc24c241",
   "metadata": {},
   "outputs": [
    {
     "name": "stdout",
     "output_type": "stream",
     "text": [
      "1.9\n"
     ]
    }
   ],
   "source": [
    "print(flt)"
   ]
  },
  {
   "cell_type": "code",
   "execution_count": 69,
   "id": "e4a2d616-70b3-4045-84c8-d4ccecfc9ed7",
   "metadata": {},
   "outputs": [
    {
     "name": "stdout",
     "output_type": "stream",
     "text": [
      "10 1.9 Anushka\n"
     ]
    }
   ],
   "source": [
    "print (integer, flt, string)"
   ]
  },
  {
   "cell_type": "code",
   "execution_count": 63,
   "id": "3c9bba20-10d1-4be2-b9d4-ec1fdc8f5482",
   "metadata": {},
   "outputs": [
    {
     "data": {
      "text/plain": [
       "int"
      ]
     },
     "execution_count": 63,
     "metadata": {},
     "output_type": "execute_result"
    }
   ],
   "source": [
    "type(integer)"
   ]
  },
  {
   "cell_type": "code",
   "execution_count": 101,
   "id": "4f902af4-983a-4a51-828b-be8f3874e729",
   "metadata": {},
   "outputs": [
    {
     "name": "stdin",
     "output_type": "stream",
     "text": [
      "Date of Birth 2003\n"
     ]
    },
    {
     "name": "stdout",
     "output_type": "stream",
     "text": [
      "21\n"
     ]
    }
   ],
   "source": [
    "DOB = int(input('Date of Birth'))\n",
    "current_year = 2024\n",
    "print(current_year - DOB)\n"
   ]
  },
  {
   "cell_type": "code",
   "execution_count": 105,
   "id": "179e25ef-4460-4e64-bebd-723970db35a7",
   "metadata": {},
   "outputs": [
    {
     "name": "stdout",
     "output_type": "stream",
     "text": [
      "10\n",
      "5\n"
     ]
    }
   ],
   "source": [
    "a = 5\n",
    "b = 10\n",
    "a,b = b,a\n",
    "print(a)\n",
    "print(b)"
   ]
  },
  {
   "cell_type": "code",
   "execution_count": 113,
   "id": "199ab443-1c8d-4aef-941e-7b474f8ea4b2",
   "metadata": {},
   "outputs": [
    {
     "name": "stdout",
     "output_type": "stream",
     "text": [
      "10\n",
      "5\n"
     ]
    }
   ],
   "source": [
    "a = 5\n",
    "b = 10\n",
    "\n",
    "c = a\n",
    "a = b\n",
    "b = c\n",
    "print(a)\n",
    "print(b)\n"
   ]
  },
  {
   "cell_type": "code",
   "execution_count": 115,
   "id": "5ee850b1-40ff-4523-8efa-f5b8895377f2",
   "metadata": {},
   "outputs": [
    {
     "name": "stdout",
     "output_type": "stream",
     "text": [
      "roger_age = 24\n",
      "roger_income = 10000\n",
      "roger_experience = 7\n"
     ]
    }
   ],
   "source": [
    "roger_age, roger_income, roger_experience = 24, 10000, 7\n",
    "print(\"roger_age =\", roger_age)\n",
    "print(\"roger_income =\", roger_income)\n",
    "print(\"roger_experience =\", roger_experience)\n"
   ]
  },
  {
   "cell_type": "code",
   "execution_count": 18,
   "id": "6b8f461a-a299-4ff4-9f39-7322cce35f0d",
   "metadata": {},
   "outputs": [
    {
     "name": "stdout",
     "output_type": "stream",
     "text": [
      "roger_age = 21\n",
      "jessica_age = 21\n",
      "shlok_age = 21\n"
     ]
    }
   ],
   "source": [
    "roger_age = jessica_age = shlok_age = 21\n",
    "print(\"roger_age =\", roger_age)\n",
    "print(\"jessica_age =\", jessica_age)\n",
    "print(\"shlok_age =\", shlok_age)"
   ]
  },
  {
   "cell_type": "code",
   "execution_count": null,
   "id": "b09cf7df-8b1a-47c3-b558-52d5a2a1da38",
   "metadata": {},
   "outputs": [],
   "source": []
  }
 ],
 "metadata": {
  "kernelspec": {
   "display_name": "Python 3 (ipykernel)",
   "language": "python",
   "name": "python3"
  },
  "language_info": {
   "codemirror_mode": {
    "name": "ipython",
    "version": 3
   },
   "file_extension": ".py",
   "mimetype": "text/x-python",
   "name": "python",
   "nbconvert_exporter": "python",
   "pygments_lexer": "ipython3",
   "version": "3.12.4"
  }
 },
 "nbformat": 4,
 "nbformat_minor": 5
}
