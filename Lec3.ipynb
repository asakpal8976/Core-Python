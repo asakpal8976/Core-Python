{
 "cells": [
  {
   "cell_type": "markdown",
   "id": "3c6edc2a-3b0e-4cb1-b9f8-1fd82ecec591",
   "metadata": {},
   "source": [
    "IF STATEMENT"
   ]
  },
  {
   "cell_type": "code",
   "execution_count": 5,
   "id": "75aa9de2-01b9-408a-8fca-5756bba18e5d",
   "metadata": {},
   "outputs": [
    {
     "name": "stdin",
     "output_type": "stream",
     "text": [
      "enter a number 32\n"
     ]
    },
    {
     "name": "stdout",
     "output_type": "stream",
     "text": [
      "the given number 32 is even\n",
      "end of program\n"
     ]
    }
   ],
   "source": [
    "# check the num is positive\n",
    "n = int(input('enter a number'))\n",
    "even = n%2 == 0\n",
    "\n",
    "if even : \n",
    "    print(f'the given number {n} is even')\n",
    "\n",
    "print('end of program')"
   ]
  },
  {
   "cell_type": "code",
   "execution_count": 9,
   "id": "0aa068f6-727b-452d-b841-fad2dd768f42",
   "metadata": {},
   "outputs": [
    {
     "name": "stdin",
     "output_type": "stream",
     "text": [
      "enter a number -9\n"
     ]
    },
    {
     "name": "stdout",
     "output_type": "stream",
     "text": [
      "the number -9 is negative\n",
      "end of program\n"
     ]
    }
   ],
   "source": [
    "# check no is negative\n",
    "n = int(input('enter a number'))\n",
    "\n",
    "condition = n<0\n",
    "if condition:\n",
    "    print(f'the number {n} is negative')\n",
    "\n",
    "print('end of program')"
   ]
  },
  {
   "cell_type": "code",
   "execution_count": 15,
   "id": "3aa99cab-0958-4ae9-9e2e-1231c1c4c936",
   "metadata": {},
   "outputs": [
    {
     "name": "stdin",
     "output_type": "stream",
     "text": [
      "enter a string mom\n"
     ]
    },
    {
     "name": "stdout",
     "output_type": "stream",
     "text": [
      " string 'mom' is palindrome\n",
      "End of program\n"
     ]
    }
   ],
   "source": [
    "# check the str is palindrome\n",
    "# mom\n",
    "\n",
    "string = input('enter a string')\n",
    "condition = string == string[::-1]\n",
    "\n",
    "if condition:\n",
    "    print(f\" string '{string}' is palindrome\")\n",
    "\n",
    "print('End of program')\n"
   ]
  },
  {
   "cell_type": "code",
   "execution_count": 3,
   "id": "dfe0b77c-f281-4c4c-bc5b-1ae98162358e",
   "metadata": {},
   "outputs": [
    {
     "name": "stdin",
     "output_type": "stream",
     "text": [
      "enter a string mom\n"
     ]
    },
    {
     "name": "stdout",
     "output_type": "stream",
     "text": [
      " string 'mom' is palindrome\n",
      "End of program\n"
     ]
    }
   ],
   "source": [
    "string = input('enter a string')\n",
    "string == string[::-1]\n",
    "\n",
    "if string:\n",
    "    print(f\" string '{string}' is palindrome\")\n",
    "\n",
    "print('End of program')\n"
   ]
  },
  {
   "cell_type": "markdown",
   "id": "b1df7ee3-d7e0-4bc4-8d27-84585d974cb4",
   "metadata": {},
   "source": [
    "# IF ELSE "
   ]
  },
  {
   "cell_type": "code",
   "execution_count": 5,
   "id": "db8cda4f-96cb-4671-ab9c-a7165cc51e66",
   "metadata": {},
   "outputs": [
    {
     "name": "stdin",
     "output_type": "stream",
     "text": [
      "enter a number 11\n"
     ]
    },
    {
     "name": "stdout",
     "output_type": "stream",
     "text": [
      "odd\n"
     ]
    }
   ],
   "source": [
    "n = int(input('enter a number'))\n",
    "\n",
    "even = n % 2 == 0\n",
    "odd = n % 2 != 0\n",
    "\n",
    "if even:\n",
    "    print('even')\n",
    "else:\n",
    "    print('odd')"
   ]
  },
  {
   "cell_type": "markdown",
   "id": "a0cd2ec0-4a07-4949-84bd-f80945c23958",
   "metadata": {},
   "source": [
    "**LOOPS**"
   ]
  },
  {
   "cell_type": "code",
   "execution_count": 34,
   "id": "2facd7aa-cb93-4cbc-81e8-aa255ca494f6",
   "metadata": {},
   "outputs": [
    {
     "name": "stdout",
     "output_type": "stream",
     "text": [
      "[0, 1, 2, 3, 4, 5, 6, 7, 8, 9, 10]\n"
     ]
    }
   ],
   "source": [
    "list1 = []\n",
    "for i in range(0,11):\n",
    "    list1.append(i)\n",
    "\n",
    "print(list1)"
   ]
  },
  {
   "cell_type": "code",
   "execution_count": 26,
   "id": "5b88ca0c-91de-439d-b898-8406031cb6f0",
   "metadata": {},
   "outputs": [
    {
     "data": {
      "text/plain": [
       "[40, 41, 42, 43, 44, 45, 46, 47, 48, 49]"
      ]
     },
     "execution_count": 26,
     "metadata": {},
     "output_type": "execute_result"
    }
   ],
   "source": [
    "list(range(40,50))"
   ]
  },
  {
   "cell_type": "code",
   "execution_count": 1,
   "id": "d0d36ccc-807a-4969-8fa0-c1fb0db70e6a",
   "metadata": {},
   "outputs": [
    {
     "name": "stdout",
     "output_type": "stream",
     "text": [
      "[0, 2, 4, 6, 8, 10]\n"
     ]
    }
   ],
   "source": [
    "list1 = []\n",
    "for i in range(0,11,2):\n",
    "    list1.append(i)\n",
    "\n",
    "print(list1)"
   ]
  },
  {
   "cell_type": "code",
   "execution_count": 3,
   "id": "b0f25c25-0d73-4190-861c-ce1799d3c5dc",
   "metadata": {},
   "outputs": [
    {
     "name": "stdout",
     "output_type": "stream",
     "text": [
      "6\n"
     ]
    }
   ],
   "source": [
    "print(len(list1))"
   ]
  },
  {
   "cell_type": "code",
   "execution_count": 38,
   "id": "046bad74-e6d9-4412-9efe-4fb4743da34c",
   "metadata": {},
   "outputs": [
    {
     "name": "stdout",
     "output_type": "stream",
     "text": [
      "0\n",
      "1\n",
      "2\n",
      "3\n",
      "4\n",
      "5\n"
     ]
    }
   ],
   "source": [
    "for i in range(len(list1)):\n",
    "    print(i)"
   ]
  },
  {
   "cell_type": "code",
   "execution_count": 40,
   "id": "ba22d12a-6b25-44c8-a5d5-60968bc5d472",
   "metadata": {},
   "outputs": [
    {
     "name": "stdout",
     "output_type": "stream",
     "text": [
      "0\n",
      "2\n",
      "4\n",
      "6\n",
      "8\n",
      "10\n"
     ]
    }
   ],
   "source": [
    "for i in range(len(list1)):\n",
    "    print(list1[i])"
   ]
  },
  {
   "cell_type": "code",
   "execution_count": 42,
   "id": "179f4e41-0483-47c2-b433-8dbc5aabada5",
   "metadata": {},
   "outputs": [
    {
     "name": "stdout",
     "output_type": "stream",
     "text": [
      "H\n",
      "e\n",
      "l\n",
      "l\n",
      "o\n",
      " \n",
      "w\n",
      "o\n",
      "r\n",
      "l\n",
      "d\n"
     ]
    }
   ],
   "source": [
    "string = \"Hello world\"\n",
    "vowels = 'a,e,i,o,u'\n",
    "\n",
    "for letter in string:\n",
    "    print(letter)"
   ]
  },
  {
   "cell_type": "code",
   "execution_count": 3,
   "id": "6ea0f7cc-a506-42d2-a220-298f64cc9f77",
   "metadata": {},
   "outputs": [
    {
     "name": "stdout",
     "output_type": "stream",
     "text": [
      "consonant: H\n",
      "vowel E\n",
      "consonant: L\n",
      "consonant: L\n",
      "vowel O\n",
      "consonant:  \n",
      "consonant: W\n",
      "vowel O\n",
      "consonant: R\n",
      "consonant: L\n",
      "consonant: D\n",
      "D\n"
     ]
    }
   ],
   "source": [
    "string = \"Hello world\"\n",
    "vowels = 'A,E,I,O,U'\n",
    "\n",
    "for letter in string.upper():\n",
    "    if letter in vowels :\n",
    "        print(f'vowel {letter}')\n",
    "    else:\n",
    "        print(f'consonant: {letter}')\n",
    "        \n",
    "print(letter)"
   ]
  },
  {
   "cell_type": "code",
   "execution_count": null,
   "id": "fd126a0c-1425-4c82-bfae-8fa9a39df555",
   "metadata": {},
   "outputs": [],
   "source": []
  },
  {
   "cell_type": "code",
   "execution_count": 63,
   "id": "53485024-4f02-44c6-9664-fdfa1605ac13",
   "metadata": {},
   "outputs": [
    {
     "name": "stdout",
     "output_type": "stream",
     "text": [
      "[20, 21, 22, 23, 24, 25, 26, 27, 28, 29, 30]\n"
     ]
    }
   ],
   "source": [
    "list2 = []\n",
    "for i in range(20,31):\n",
    "    list2.append(i)\n",
    "print(list2)"
   ]
  },
  {
   "cell_type": "code",
   "execution_count": 5,
   "id": "ecff5f92-23e6-4b7e-b25c-0a66098c72d8",
   "metadata": {},
   "outputs": [
    {
     "name": "stdin",
     "output_type": "stream",
     "text": [
      "enter a number 10\n"
     ]
    },
    {
     "name": "stdout",
     "output_type": "stream",
     "text": [
      "10 * 1 = 10\n",
      "10 * 2 = 20\n",
      "10 * 3 = 30\n",
      "10 * 4 = 40\n",
      "10 * 5 = 50\n",
      "10 * 6 = 60\n",
      "10 * 7 = 70\n",
      "10 * 8 = 80\n",
      "10 * 9 = 90\n",
      "10 * 10 = 100\n"
     ]
    }
   ],
   "source": [
    "# take input from user and print its multiplication table for first 10 number\n",
    "n = int(input('enter a number'))\n",
    "for i in range(1,11):\n",
    "    print(f'{n} * {i} = {n*i}')\n"
   ]
  },
  {
   "cell_type": "code",
   "execution_count": 81,
   "id": "fc50b7dc-2ea7-4b65-be3b-1afaef164b1e",
   "metadata": {},
   "outputs": [
    {
     "name": "stdout",
     "output_type": "stream",
     "text": [
      "[5, 10, 15, 20, 25, 30, 35, 40, 45, 50, 55, 60, 65, 70, 75, 80, 85, 90, 95, 100]\n"
     ]
    }
   ],
   "source": [
    "# Wap to add all multiples of 5 betwwen 1-100 in a list\n",
    "list = []\n",
    "for i  in range(1,101):\n",
    "    div = i%5 == 0\n",
    "    if div :\n",
    "        list.append(i)\n",
    "print(list)"
   ]
  },
  {
   "cell_type": "code",
   "execution_count": 33,
   "id": "19be7292-74ef-458b-bee5-4cedbe4ff360",
   "metadata": {},
   "outputs": [
    {
     "name": "stdout",
     "output_type": "stream",
     "text": [
      "[7, 14, 21, 28, 35, 42, 49, 56, 63, 70, 77, 84, 91, 98, 105, 112, 119, 126, 133, 140, 147, 154, 161, 168, 175, 182, 189, 196]\n"
     ]
    }
   ],
   "source": [
    "list1 = []\n",
    "for i in range(1,200):\n",
    "    div = i% 7 == 0\n",
    "    if div :\n",
    "        list1.append(i)\n",
    "\n",
    "print(list1)"
   ]
  },
  {
   "cell_type": "code",
   "execution_count": 85,
   "id": "ed2b1ac9-5c58-4ade-9ace-ed76b489e82b",
   "metadata": {},
   "outputs": [
    {
     "name": "stdout",
     "output_type": "stream",
     "text": [
      "[2, 4, 6, 8, 10, 12, 14, 16, 18, 20, 22, 24, 26, 28, 30, 32, 34, 36, 38, 40, 42, 44, 46, 48, 50, 52, 54, 56, 58, 60, 62, 64, 66, 68, 70, 72, 74, 76, 78, 80, 82, 84, 86, 88, 90, 92, 94, 96, 98, 100]\n",
      "[1, 3, 5, 7, 9, 11, 13, 15, 17, 19, 21, 23, 25, 27, 29, 31, 33, 35, 37, 39, 41, 43, 45, 47, 49, 51, 53, 55, 57, 59, 61, 63, 65, 67, 69, 71, 73, 75, 77, 79, 81, 83, 85, 87, 89, 91, 93, 95, 97, 99]\n"
     ]
    }
   ],
   "source": [
    "even = []\n",
    "odd = []\n",
    "\n",
    "for i in range(1,101):\n",
    "    div = i % 2 == 0\n",
    "    if div:\n",
    "        even.append(i)\n",
    "    else:\n",
    "        odd.append(i)\n",
    "\n",
    "print(even)\n",
    "print(odd)"
   ]
  },
  {
   "cell_type": "code",
   "execution_count": 39,
   "id": "5284bd6e-136b-474a-b23b-2ed8c923f40f",
   "metadata": {},
   "outputs": [
    {
     "name": "stdout",
     "output_type": "stream",
     "text": [
      "6\n"
     ]
    }
   ],
   "source": [
    "# Number Guessing Game\n",
    "import random \n",
    "\n",
    "random_number = random.randint(1,30)\n",
    "print(random_number)"
   ]
  },
  {
   "cell_type": "code",
   "execution_count": 5,
   "id": "62d57a2f-8b96-494c-8c87-514408d39587",
   "metadata": {},
   "outputs": [
    {
     "name": "stdout",
     "output_type": "stream",
     "text": [
      "27\n"
     ]
    },
    {
     "name": "stdin",
     "output_type": "stream",
     "text": [
      "guess a number 27\n"
     ]
    },
    {
     "name": "stdout",
     "output_type": "stream",
     "text": [
      "you guessed it right\n"
     ]
    },
    {
     "name": "stdin",
     "output_type": "stream",
     "text": [
      "guess a number 88\n"
     ]
    },
    {
     "name": "stdout",
     "output_type": "stream",
     "text": [
      "you guessed on a higher side\n"
     ]
    },
    {
     "name": "stdin",
     "output_type": "stream",
     "text": [
      "guess a number 34\n"
     ]
    },
    {
     "name": "stdout",
     "output_type": "stream",
     "text": [
      "you guessed on a higher side\n",
      "Thank You\n"
     ]
    }
   ],
   "source": [
    "import random \n",
    "\n",
    "random_number = random.randint(1,30)\n",
    "print(random_number)\n",
    "for i in range(3):\n",
    "    ui = int(input('guess a number'))\n",
    "    if ui == random_number:\n",
    "        print('you guessed it right')\n",
    "    elif ui > random_number:\n",
    "        print('you guessed on a higher side')\n",
    "    else:\n",
    "        print('you guessed on a lower side')\n",
    "    \n",
    "\n",
    "print('Thank You')\n"
   ]
  },
  {
   "cell_type": "code",
   "execution_count": 3,
   "id": "c6b1ad74-2a4b-4d09-9a7c-17be0ffbe2dc",
   "metadata": {},
   "outputs": [
    {
     "ename": "SyntaxError",
     "evalue": "invalid syntax (2004231164.py, line 5)",
     "output_type": "error",
     "traceback": [
      "\u001b[1;36m  Cell \u001b[1;32mIn[3], line 5\u001b[1;36m\u001b[0m\n\u001b[1;33m    for level in range(1, level++):\u001b[0m\n\u001b[1;37m                                 ^\u001b[0m\n\u001b[1;31mSyntaxError\u001b[0m\u001b[1;31m:\u001b[0m invalid syntax\n"
     ]
    }
   ],
   "source": [
    "# print a star pattern using a for loop and range function \n",
    "# take levels from star\n",
    "\n",
    "levels = int(input(\" * \" ))\n",
    "for level in range(1, level++):\n",
    "    for num in range(level):\n",
    "        print(level, end=\"\")\n",
    "\n",
    "print(\"\\n\")"
   ]
  },
  {
   "cell_type": "markdown",
   "id": "942aabc8-5331-434f-b1ac-47ef3775276c",
   "metadata": {},
   "source": [
    "**FOR LOOPS**"
   ]
  },
  {
   "cell_type": "code",
   "execution_count": 45,
   "id": "c195c46e-18bc-4063-a09b-0695d6a9e67b",
   "metadata": {},
   "outputs": [
    {
     "name": "stdin",
     "output_type": "stream",
     "text": [
      "Enter number of rows: 4\n"
     ]
    },
    {
     "name": "stdout",
     "output_type": "stream",
     "text": [
      "* \n",
      "* * \n",
      "* * * \n",
      "* * * * \n"
     ]
    }
   ],
   "source": [
    "def star_pattern1(n):\n",
    "    for i in range(1, n+1):\n",
    "        for j in range(1, i + 1):\n",
    "                print(\"* \", end=\"\")\n",
    "            \n",
    "        print()\n",
    "\n",
    "n = int(input(\"Enter number of rows:\"))\n",
    "star_pattern1(n)"
   ]
  },
  {
   "cell_type": "code",
   "execution_count": 8,
   "id": "baf2e19a-b5a9-4ef8-959b-73205b3da9b3",
   "metadata": {},
   "outputs": [
    {
     "name": "stdin",
     "output_type": "stream",
     "text": [
      "Enter number of rows: 7\n"
     ]
    },
    {
     "name": "stdout",
     "output_type": "stream",
     "text": [
      "* * * * * * * \n",
      "* * * * * * \n",
      "* * * * * \n",
      "* * * * \n",
      "* * * \n",
      "* * \n",
      "* \n"
     ]
    }
   ],
   "source": [
    "# Nested \n",
    "def star_pattern2(n):\n",
    "    for i in range(n, 0, -1 ):\n",
    "        for j in range(1, i + 1):\n",
    "            print(\"* \", end=\"\") \n",
    "        print()\n",
    "n = int(input(\"Enter number of rows:\"))\n",
    "star_pattern2(n)"
   ]
  },
  {
   "cell_type": "code",
   "execution_count": 14,
   "id": "8736f714-bff9-42e2-be88-3df2bccc4c14",
   "metadata": {},
   "outputs": [
    {
     "name": "stdin",
     "output_type": "stream",
     "text": [
      "Enter number of rows: 9\n"
     ]
    },
    {
     "name": "stdout",
     "output_type": "stream",
     "text": [
      "         *\n",
      "        **\n",
      "       ***\n",
      "      ****\n",
      "     *****\n",
      "    ******\n",
      "   *******\n",
      "  ********\n",
      " *********\n"
     ]
    }
   ],
   "source": [
    "def star_pattern3(n):\n",
    "    spaces = n\n",
    "    for i in range(1, n + 1):\n",
    "        for j in range(1, spaces + 1):\n",
    "            print(\" \", end=\"\")\n",
    "        for k in range(1, i + 1): \n",
    "            print(\"*\", end=\"\")    \n",
    "        print()\n",
    "        spaces = spaces - 1\n",
    "        \n",
    "n = int(input(\"Enter number of rows:\"))\n",
    "star_pattern3(n)"
   ]
  },
  {
   "cell_type": "code",
   "execution_count": 16,
   "id": "e4516a79-0198-4c33-9f22-438b5d851f29",
   "metadata": {},
   "outputs": [
    {
     "name": "stdin",
     "output_type": "stream",
     "text": [
      "Enter number of rows: 10\n"
     ]
    },
    {
     "name": "stdout",
     "output_type": "stream",
     "text": [
      "          * \n",
      "         * * \n",
      "        * * * \n",
      "       * * * * \n",
      "      * * * * * \n",
      "     * * * * * * \n",
      "    * * * * * * * \n",
      "   * * * * * * * * \n",
      "  * * * * * * * * * \n",
      " * * * * * * * * * * \n"
     ]
    }
   ],
   "source": [
    "def star_pattern4(n):\n",
    "    spaces = n\n",
    "    for i in range(1, n + 1):\n",
    "        for j in range(1, spaces + 1): \n",
    "            print(\" \", end=\"\")\n",
    "        for k in range(1, i + 1): \n",
    "            print(\"* \", end=\"\")\n",
    "        print()\n",
    "        spaces = spaces - 1\n",
    "\n",
    "n = int(input(\"Enter number of rows:\"))\n",
    "star_pattern4(n)"
   ]
  },
  {
   "cell_type": "code",
   "execution_count": null,
   "id": "3070dc62-1593-44fd-8b58-4c52b53afe3c",
   "metadata": {},
   "outputs": [],
   "source": []
  }
 ],
 "metadata": {
  "kernelspec": {
   "display_name": "Python 3 (ipykernel)",
   "language": "python",
   "name": "python3"
  },
  "language_info": {
   "codemirror_mode": {
    "name": "ipython",
    "version": 3
   },
   "file_extension": ".py",
   "mimetype": "text/x-python",
   "name": "python",
   "nbconvert_exporter": "python",
   "pygments_lexer": "ipython3",
   "version": "3.12.4"
  }
 },
 "nbformat": 4,
 "nbformat_minor": 5
}
